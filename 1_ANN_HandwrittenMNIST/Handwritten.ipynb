{
 "cells": [
  {
   "cell_type": "code",
   "execution_count": 1,
   "id": "5e8e564a",
   "metadata": {
    "colab": {
     "base_uri": "https://localhost:8080/",
     "height": 317
    },
    "id": "5e8e564a",
    "executionInfo": {
     "status": "ok",
     "timestamp": 1700035060479,
     "user_tz": -60,
     "elapsed": 850,
     "user": {
      "displayName": "Bassem Ben Hamed",
      "userId": "05085141965811481856"
     }
    },
    "outputId": "c9c2a579-0f39-46bd-a043-af2062e1eabc",
    "ExecuteTime": {
     "end_time": "2024-04-18T10:36:31.675610Z",
     "start_time": "2024-04-18T10:36:31.670894Z"
    }
   },
   "outputs": [
    {
     "data": {
      "image/png": "[encoded data removed]",
      "text/plain": "<IPython.core.display.Image object>"
     },
     "execution_count": 1,
     "metadata": {
      "image/png": {
       "width": 600,
       "height": 300
      }
     },
     "output_type": "execute_result"
    }
   ],
   "source": [
    "from IPython.display import Image\n",
    "Image('handwritten.png',width=600, height=300)"
   ]
  },
  {
   "cell_type": "code",
   "source": [
    "# from google.colab import drive\n",
    "# drive.mount('/content/drive')"
   ],
   "metadata": {
    "colab": {
     "base_uri": "https://localhost:8080/"
    },
    "id": "h8TY1DVHgJ09",
    "executionInfo": {
     "status": "ok",
     "timestamp": 1700035056955,
     "user_tz": -60,
     "elapsed": 22703,
     "user": {
      "displayName": "Bassem Ben Hamed",
      "userId": "05085141965811481856"
     }
    },
    "outputId": "63231594-4dd4-4570-a81a-bba680bdbb8b",
    "ExecuteTime": {
     "end_time": "2024-04-18T10:39:56.055695Z",
     "start_time": "2024-04-18T10:39:56.052103Z"
    }
   },
   "id": "h8TY1DVHgJ09",
   "execution_count": 2,
   "outputs": []
  },
  {
   "cell_type": "code",
   "execution_count": 3,
   "id": "85aebdc4",
   "metadata": {
    "id": "85aebdc4",
    "executionInfo": {
     "status": "ok",
     "timestamp": 1700035475963,
     "user_tz": -60,
     "elapsed": 447,
     "user": {
      "displayName": "Bassem Ben Hamed",
      "userId": "05085141965811481856"
     }
    },
    "ExecuteTime": {
     "end_time": "2024-04-18T10:40:20.189324Z",
     "start_time": "2024-04-18T10:40:19.728507Z"
    }
   },
   "outputs": [],
   "source": [
    "import numpy as np\n",
    "import matplotlib.pyplot as plt\n",
    "import warnings\n",
    "warnings.filterwarnings('ignore')"
   ]
  },
  {
   "cell_type": "code",
   "execution_count": 4,
   "id": "5ceaaa80",
   "metadata": {
    "colab": {
     "base_uri": "https://localhost:8080/",
     "height": 35
    },
    "id": "5ceaaa80",
    "executionInfo": {
     "status": "ok",
     "timestamp": 1700035514570,
     "user_tz": -60,
     "elapsed": 6466,
     "user": {
      "displayName": "Bassem Ben Hamed",
      "userId": "05085141965811481856"
     }
    },
    "outputId": "dc61194e-2076-4fc5-c377-90453d32963c",
    "ExecuteTime": {
     "end_time": "2024-04-18T10:40:26.935981Z",
     "start_time": "2024-04-18T10:40:25.247886Z"
    }
   },
   "outputs": [
    {
     "data": {
      "text/plain": "'2.9.0'"
     },
     "execution_count": 4,
     "metadata": {},
     "output_type": "execute_result"
    }
   ],
   "source": [
    "import tensorflow\n",
    "tensorflow.__version__"
   ]
  },
  {
   "cell_type": "code",
   "outputs": [
    {
     "data": {
      "text/plain": "[PhysicalDevice(name='/physical_device:GPU:0', device_type='GPU')]"
     },
     "execution_count": 5,
     "metadata": {},
     "output_type": "execute_result"
    }
   ],
   "source": [
    "tensorflow.config.list_physical_devices('GPU')"
   ],
   "metadata": {
    "collapsed": false,
    "ExecuteTime": {
     "end_time": "2024-04-18T10:42:41.480359Z",
     "start_time": "2024-04-18T10:42:41.472224Z"
    }
   },
   "id": "483d776a4fd49f0",
   "execution_count": 5
  },
  {
   "cell_type": "code",
   "execution_count": 6,
   "id": "1b1e7bb0",
   "metadata": {
    "id": "1b1e7bb0",
    "executionInfo": {
     "status": "ok",
     "timestamp": 1700036057549,
     "user_tz": -60,
     "elapsed": 384,
     "user": {
      "displayName": "Bassem Ben Hamed",
      "userId": "05085141965811481856"
     }
    },
    "ExecuteTime": {
     "end_time": "2024-04-18T10:58:36.700422Z",
     "start_time": "2024-04-18T10:58:36.694945Z"
    }
   },
   "outputs": [],
   "source": [
    "from tensorflow import keras\n",
    "from tensorflow.keras.datasets import mnist\n",
    "from tensorflow.keras.models import Sequential, load_model\n",
    "from tensorflow.keras.layers import Dense, Dropout, Activation\n",
    "from tensorflow.keras.utils import to_categorical"
   ]
  },
  {
   "cell_type": "code",
   "execution_count": 7,
   "id": "86a644ae",
   "metadata": {
    "colab": {
     "base_uri": "https://localhost:8080/"
    },
    "id": "86a644ae",
    "executionInfo": {
     "status": "ok",
     "timestamp": 1700036060054,
     "user_tz": -60,
     "elapsed": 682,
     "user": {
      "displayName": "Bassem Ben Hamed",
      "userId": "05085141965811481856"
     }
    },
    "outputId": "11f897d6-3981-49cf-ecdc-152a83934fc2",
    "ExecuteTime": {
     "end_time": "2024-04-18T10:59:55.968774Z",
     "start_time": "2024-04-18T10:59:55.832Z"
    }
   },
   "outputs": [],
   "source": [
    "(X_train,y_train),(X_test,y_test) = mnist.load_data()"
   ]
  },
  {
   "cell_type": "code",
   "execution_count": 8,
   "id": "14a1541c",
   "metadata": {
    "colab": {
     "base_uri": "https://localhost:8080/"
    },
    "id": "14a1541c",
    "executionInfo": {
     "status": "ok",
     "timestamp": 1700036066865,
     "user_tz": -60,
     "elapsed": 337,
     "user": {
      "displayName": "Bassem Ben Hamed",
      "userId": "05085141965811481856"
     }
    },
    "outputId": "84b377e5-9b4d-4485-ad7a-8ff0e00847de",
    "ExecuteTime": {
     "end_time": "2024-04-18T11:02:09.420633Z",
     "start_time": "2024-04-18T11:02:09.417059Z"
    }
   },
   "outputs": [
    {
     "name": "stdout",
     "output_type": "stream",
     "text": [
      "Dim de X_train = (60000, 28, 28)\n",
      "Dim de y_train = (60000,)\n",
      "Dim de X_test = (10000, 28, 28)\n",
      "Dim de y_test = (10000,)\n"
     ]
    }
   ],
   "source": [
    "print(f'Dim de X_train = {X_train.shape}')\n",
    "print(f'Dim de y_train = {y_train.shape}')\n",
    "print(f'Dim de X_test = {X_test.shape}')\n",
    "print(f'Dim de y_test = {y_test.shape}')"
   ]
  },
  {
   "cell_type": "code",
   "execution_count": 9,
   "id": "5806f653",
   "metadata": {
    "colab": {
     "base_uri": "https://localhost:8080/"
    },
    "id": "5806f653",
    "executionInfo": {
     "status": "ok",
     "timestamp": 1700036178126,
     "user_tz": -60,
     "elapsed": 290,
     "user": {
      "displayName": "Bassem Ben Hamed",
      "userId": "05085141965811481856"
     }
    },
    "outputId": "1234fd56-5370-4a7e-815b-3957a53e98b1",
    "ExecuteTime": {
     "end_time": "2024-04-18T11:02:39.706633Z",
     "start_time": "2024-04-18T11:02:39.700904Z"
    }
   },
   "outputs": [
    {
     "data": {
      "text/plain": "array([[  0,   0,   0,   0,   0,   0,   0,   0,   0,   0,   0,   0,   0,\n          0,   0,   0,   0,   0,   0,   0,   0,   0,   0,   0,   0,   0,\n          0,   0],\n       [  0,   0,   0,   0,   0,   0,   0,   0,   0,   0,   0,   0,   0,\n          0,   0,   0,   0,   0,   0,   0,   0,   0,   0,   0,   0,   0,\n          0,   0],\n       [  0,   0,   0,   0,   0,   0,   0,   0,   0,   0,   0,   0,   0,\n          0,   0,   0,   0,   0,   0,   0,   0,   0,   0,   0,   0,   0,\n          0,   0],\n       [  0,   0,   0,   0,   0,   0,   0,   0,   0,   0,   0,   0,   0,\n          0,   0,   0,   0,   0,   0,   0,   0,   0,   0,   0,   0,   0,\n          0,   0],\n       [  0,   0,   0,   0,   0,   0,   0,   0,   0,   0,   0,   0,   0,\n          0,   0,   0,   0,   0,   0,   0,   0,   0,   0,   0,   0,   0,\n          0,   0],\n       [  0,   0,   0,   0,   0,   0,   0,   0,   0,   0,   0,   0,   3,\n         18,  18,  18, 126, 136, 175,  26, 166, 255, 247, 127,   0,   0,\n          0,   0],\n       [  0,   0,   0,   0,   0,   0,   0,   0,  30,  36,  94, 154, 170,\n        253, 253, 253, 253, 253, 225, 172, 253, 242, 195,  64,   0,   0,\n          0,   0],\n       [  0,   0,   0,   0,   0,   0,   0,  49, 238, 253, 253, 253, 253,\n        253, 253, 253, 253, 251,  93,  82,  82,  56,  39,   0,   0,   0,\n          0,   0],\n       [  0,   0,   0,   0,   0,   0,   0,  18, 219, 253, 253, 253, 253,\n        253, 198, 182, 247, 241,   0,   0,   0,   0,   0,   0,   0,   0,\n          0,   0],\n       [  0,   0,   0,   0,   0,   0,   0,   0,  80, 156, 107, 253, 253,\n        205,  11,   0,  43, 154,   0,   0,   0,   0,   0,   0,   0,   0,\n          0,   0],\n       [  0,   0,   0,   0,   0,   0,   0,   0,   0,  14,   1, 154, 253,\n         90,   0,   0,   0,   0,   0,   0,   0,   0,   0,   0,   0,   0,\n          0,   0],\n       [  0,   0,   0,   0,   0,   0,   0,   0,   0,   0,   0, 139, 253,\n        190,   2,   0,   0,   0,   0,   0,   0,   0,   0,   0,   0,   0,\n          0,   0],\n       [  0,   0,   0,   0,   0,   0,   0,   0,   0,   0,   0,  11, 190,\n        253,  70,   0,   0,   0,   0,   0,   0,   0,   0,   0,   0,   0,\n          0,   0],\n       [  0,   0,   0,   0,   0,   0,   0,   0,   0,   0,   0,   0,  35,\n        241, 225, 160, 108,   1,   0,   0,   0,   0,   0,   0,   0,   0,\n          0,   0],\n       [  0,   0,   0,   0,   0,   0,   0,   0,   0,   0,   0,   0,   0,\n         81, 240, 253, 253, 119,  25,   0,   0,   0,   0,   0,   0,   0,\n          0,   0],\n       [  0,   0,   0,   0,   0,   0,   0,   0,   0,   0,   0,   0,   0,\n          0,  45, 186, 253, 253, 150,  27,   0,   0,   0,   0,   0,   0,\n          0,   0],\n       [  0,   0,   0,   0,   0,   0,   0,   0,   0,   0,   0,   0,   0,\n          0,   0,  16,  93, 252, 253, 187,   0,   0,   0,   0,   0,   0,\n          0,   0],\n       [  0,   0,   0,   0,   0,   0,   0,   0,   0,   0,   0,   0,   0,\n          0,   0,   0,   0, 249, 253, 249,  64,   0,   0,   0,   0,   0,\n          0,   0],\n       [  0,   0,   0,   0,   0,   0,   0,   0,   0,   0,   0,   0,   0,\n          0,  46, 130, 183, 253, 253, 207,   2,   0,   0,   0,   0,   0,\n          0,   0],\n       [  0,   0,   0,   0,   0,   0,   0,   0,   0,   0,   0,   0,  39,\n        148, 229, 253, 253, 253, 250, 182,   0,   0,   0,   0,   0,   0,\n          0,   0],\n       [  0,   0,   0,   0,   0,   0,   0,   0,   0,   0,  24, 114, 221,\n        253, 253, 253, 253, 201,  78,   0,   0,   0,   0,   0,   0,   0,\n          0,   0],\n       [  0,   0,   0,   0,   0,   0,   0,   0,  23,  66, 213, 253, 253,\n        253, 253, 198,  81,   2,   0,   0,   0,   0,   0,   0,   0,   0,\n          0,   0],\n       [  0,   0,   0,   0,   0,   0,  18, 171, 219, 253, 253, 253, 253,\n        195,  80,   9,   0,   0,   0,   0,   0,   0,   0,   0,   0,   0,\n          0,   0],\n       [  0,   0,   0,   0,  55, 172, 226, 253, 253, 253, 253, 244, 133,\n         11,   0,   0,   0,   0,   0,   0,   0,   0,   0,   0,   0,   0,\n          0,   0],\n       [  0,   0,   0,   0, 136, 253, 253, 253, 212, 135, 132,  16,   0,\n          0,   0,   0,   0,   0,   0,   0,   0,   0,   0,   0,   0,   0,\n          0,   0],\n       [  0,   0,   0,   0,   0,   0,   0,   0,   0,   0,   0,   0,   0,\n          0,   0,   0,   0,   0,   0,   0,   0,   0,   0,   0,   0,   0,\n          0,   0],\n       [  0,   0,   0,   0,   0,   0,   0,   0,   0,   0,   0,   0,   0,\n          0,   0,   0,   0,   0,   0,   0,   0,   0,   0,   0,   0,   0,\n          0,   0],\n       [  0,   0,   0,   0,   0,   0,   0,   0,   0,   0,   0,   0,   0,\n          0,   0,   0,   0,   0,   0,   0,   0,   0,   0,   0,   0,   0,\n          0,   0]], dtype=uint8)"
     },
     "execution_count": 9,
     "metadata": {},
     "output_type": "execute_result"
    }
   ],
   "source": [
    "X_train[0]"
   ]
  },
  {
   "cell_type": "code",
   "outputs": [
    {
     "data": {
      "text/plain": "(28, 28)"
     },
     "execution_count": 10,
     "metadata": {},
     "output_type": "execute_result"
    }
   ],
   "source": [
    "X_train[0].shape"
   ],
   "metadata": {
    "collapsed": false,
    "ExecuteTime": {
     "end_time": "2024-04-18T11:03:36.502400Z",
     "start_time": "2024-04-18T11:03:36.485231Z"
    }
   },
   "id": "1628a4c1e911b696",
   "execution_count": 10
  },
  {
   "cell_type": "code",
   "outputs": [
    {
     "data": {
      "text/plain": "<matplotlib.image.AxesImage at 0x29a7bdcc0>"
     },
     "execution_count": 13,
     "metadata": {},
     "output_type": "execute_result"
    },
    {
     "data": {
      "text/plain": "<Figure size 640x480 with 1 Axes>",
      "image/png": "[encoded data removed]"
     },
     "metadata": {},
     "output_type": "display_data"
    }
   ],
   "source": [
    "plt.imshow(X_train[0], cmap = 'gray')"
   ],
   "metadata": {
    "collapsed": false,
    "ExecuteTime": {
     "end_time": "2024-04-18T11:05:35.566366Z",
     "start_time": "2024-04-18T11:05:35.456567Z"
    }
   },
   "id": "77b5c4a83383911d",
   "execution_count": 13
  },
  {
   "cell_type": "code",
   "execution_count": 14,
   "id": "ff2c0bc2",
   "metadata": {
    "colab": {
     "base_uri": "https://localhost:8080/"
    },
    "id": "ff2c0bc2",
    "executionInfo": {
     "status": "ok",
     "timestamp": 1700036242071,
     "user_tz": -60,
     "elapsed": 414,
     "user": {
      "displayName": "Bassem Ben Hamed",
      "userId": "05085141965811481856"
     }
    },
    "outputId": "b91d151a-d99d-476e-ecaf-6034037486a0",
    "ExecuteTime": {
     "end_time": "2024-04-18T11:07:21.650481Z",
     "start_time": "2024-04-18T11:07:21.647148Z"
    }
   },
   "outputs": [
    {
     "data": {
      "text/plain": "5"
     },
     "execution_count": 14,
     "metadata": {},
     "output_type": "execute_result"
    }
   ],
   "source": [
    "y_train[0]"
   ]
  },
  {
   "cell_type": "code",
   "execution_count": 12,
   "id": "61d44964",
   "metadata": {
    "colab": {
     "base_uri": "https://localhost:8080/"
    },
    "id": "61d44964",
    "executionInfo": {
     "status": "ok",
     "timestamp": 1700036275062,
     "user_tz": -60,
     "elapsed": 314,
     "user": {
      "displayName": "Bassem Ben Hamed",
      "userId": "05085141965811481856"
     }
    },
    "outputId": "57125504-caf6-4345-fef8-ab49c18b097e",
    "ExecuteTime": {
     "end_time": "2024-04-18T11:04:30.165310Z",
     "start_time": "2024-04-18T11:04:30.159614Z"
    }
   },
   "outputs": [
    {
     "name": "stdout",
     "output_type": "stream",
     "text": [
      "[0 1 2 3 4 5 6 7 8 9]\n"
     ]
    }
   ],
   "source": [
    "print(np.unique(y_train))"
   ]
  },
  {
   "cell_type": "code",
   "execution_count": 19,
   "id": "de75cec1",
   "metadata": {
    "colab": {
     "base_uri": "https://localhost:8080/",
     "height": 463
    },
    "id": "de75cec1",
    "executionInfo": {
     "status": "ok",
     "timestamp": 1700036428175,
     "user_tz": -60,
     "elapsed": 1852,
     "user": {
      "displayName": "Bassem Ben Hamed",
      "userId": "05085141965811481856"
     }
    },
    "outputId": "4a87dc6a-31f1-4705-bd9d-45f5541ff45a",
    "ExecuteTime": {
     "end_time": "2024-04-18T11:09:58.755831Z",
     "start_time": "2024-04-18T11:09:58.534037Z"
    }
   },
   "outputs": [
    {
     "data": {
      "text/plain": "<Figure size 640x480 with 9 Axes>",
      "image/png": "[encoded data removed]"
     },
     "metadata": {},
     "output_type": "display_data"
    }
   ],
   "source": [
    "fig = plt.figure()\n",
    "for i in range(9):\n",
    "    plt.subplot(3,3,i+1)\n",
    "    plt.tight_layout()\n",
    "    plt.imshow(X_train[i], cmap = 'gray')\n",
    "    plt.title(f'Digit {y_train[i]}')\n",
    "    plt.xticks([])\n",
    "    plt.yticks([])"
   ]
  },
  {
   "cell_type": "code",
   "execution_count": 20,
   "id": "ed178060",
   "metadata": {
    "colab": {
     "base_uri": "https://localhost:8080/",
     "height": 469
    },
    "id": "ed178060",
    "executionInfo": {
     "status": "ok",
     "timestamp": 1700036544259,
     "user_tz": -60,
     "elapsed": 940,
     "user": {
      "displayName": "Bassem Ben Hamed",
      "userId": "05085141965811481856"
     }
    },
    "outputId": "118f9009-c08a-4e99-d3a5-ee8733923d7c",
    "ExecuteTime": {
     "end_time": "2024-04-18T11:12:27.496555Z",
     "start_time": "2024-04-18T11:12:27.421951Z"
    }
   },
   "outputs": [
    {
     "data": {
      "text/plain": "Text(0.5, 1.0, 'Distribution des valeurs des pixels')"
     },
     "execution_count": 20,
     "metadata": {},
     "output_type": "execute_result"
    },
    {
     "data": {
      "text/plain": "<Figure size 640x480 with 2 Axes>",
      "image/png": "[encoded data removed]"
     },
     "metadata": {},
     "output_type": "display_data"
    }
   ],
   "source": [
    "fig = plt.figure()\n",
    "plt.subplot(2,1,1)\n",
    "plt.imshow(X_train[0], cmap = 'gray')\n",
    "plt.title(f'Digit {y_train[0]}')\n",
    "plt.xticks([])\n",
    "plt.yticks([])\n",
    "plt.subplot(2,1,2)\n",
    "plt.hist(X_train[0].reshape(784))\n",
    "plt.title('Distribution des valeurs des pixels')"
   ]
  },
  {
   "cell_type": "code",
   "execution_count": 21,
   "id": "fba8105c",
   "metadata": {
    "id": "fba8105c",
    "executionInfo": {
     "status": "ok",
     "timestamp": 1700036887202,
     "user_tz": -60,
     "elapsed": 545,
     "user": {
      "displayName": "Bassem Ben Hamed",
      "userId": "05085141965811481856"
     }
    },
    "ExecuteTime": {
     "end_time": "2024-04-18T11:14:44.576399Z",
     "start_time": "2024-04-18T11:14:44.545535Z"
    }
   },
   "outputs": [],
   "source": [
    "X_train = X_train.reshape(60000, 784)\n",
    "X_test = X_test.reshape(10000, 784)\n",
    "X_train = X_train.astype('float32')\n",
    "X_test = X_test.astype('float32')"
   ]
  },
  {
   "cell_type": "code",
   "outputs": [
    {
     "name": "stdout",
     "output_type": "stream",
     "text": [
      "Dim de X_train = (60000, 784)\n",
      "Dim de y_train = (60000,)\n",
      "Dim de X_test = (10000, 784)\n",
      "Dim de y_test = (10000,)\n"
     ]
    }
   ],
   "source": [
    "print(f'Dim de X_train = {X_train.shape}')\n",
    "print(f'Dim de y_train = {y_train.shape}')\n",
    "print(f'Dim de X_test = {X_test.shape}')\n",
    "print(f'Dim de y_test = {y_test.shape}')"
   ],
   "metadata": {
    "collapsed": false,
    "ExecuteTime": {
     "end_time": "2024-04-18T11:15:05.086899Z",
     "start_time": "2024-04-18T11:15:05.065727Z"
    }
   },
   "id": "baf782ad8a36f2a9",
   "execution_count": 22
  },
  {
   "cell_type": "markdown",
   "id": "122589a1",
   "metadata": {
    "id": "122589a1"
   },
   "source": [
    "**Normalisation**"
   ]
  },
  {
   "cell_type": "code",
   "execution_count": 23,
   "id": "a754fe08",
   "metadata": {
    "id": "a754fe08",
    "executionInfo": {
     "status": "ok",
     "timestamp": 1700036954381,
     "user_tz": -60,
     "elapsed": 371,
     "user": {
      "displayName": "Bassem Ben Hamed",
      "userId": "05085141965811481856"
     }
    },
    "ExecuteTime": {
     "end_time": "2024-04-18T11:17:12.879993Z",
     "start_time": "2024-04-18T11:17:12.854591Z"
    }
   },
   "outputs": [],
   "source": [
    "X_train /= 255\n",
    "X_test /= 255"
   ]
  },
  {
   "cell_type": "code",
   "execution_count": 24,
   "id": "aa76f692",
   "metadata": {
    "colab": {
     "base_uri": "https://localhost:8080/"
    },
    "id": "aa76f692",
    "executionInfo": {
     "status": "ok",
     "timestamp": 1700037049209,
     "user_tz": -60,
     "elapsed": 439,
     "user": {
      "displayName": "Bassem Ben Hamed",
      "userId": "05085141965811481856"
     }
    },
    "outputId": "7fd9ffcf-2076-49f1-aa6a-5b5498d97818",
    "ExecuteTime": {
     "end_time": "2024-04-18T11:17:26.456606Z",
     "start_time": "2024-04-18T11:17:26.449258Z"
    }
   },
   "outputs": [
    {
     "name": "stdout",
     "output_type": "stream",
     "text": [
      "Dim avant one-hot-encoder (60000,)\n"
     ]
    }
   ],
   "source": [
    "nb_classes = 10\n",
    "print(f'Dim avant one-hot-encoder {y_train.shape}')"
   ]
  },
  {
   "cell_type": "markdown",
   "id": "568dcc8d",
   "metadata": {
    "id": "568dcc8d"
   },
   "source": [
    "5 -> [0,0,0,0,0,1,0,0,0,0] : to_categorical()"
   ]
  },
  {
   "cell_type": "code",
   "execution_count": 25,
   "id": "d0bac3f5",
   "metadata": {
    "colab": {
     "base_uri": "https://localhost:8080/"
    },
    "id": "d0bac3f5",
    "executionInfo": {
     "status": "ok",
     "timestamp": 1700037110544,
     "user_tz": -60,
     "elapsed": 367,
     "user": {
      "displayName": "Bassem Ben Hamed",
      "userId": "05085141965811481856"
     }
    },
    "outputId": "bfb41925-15a0-471b-b7c3-ff5b9f15a5e3",
    "ExecuteTime": {
     "end_time": "2024-04-18T11:18:42.688286Z",
     "start_time": "2024-04-18T11:18:42.681349Z"
    }
   },
   "outputs": [
    {
     "name": "stdout",
     "output_type": "stream",
     "text": [
      "Dim après one-hot-encoder (60000, 10)\n"
     ]
    }
   ],
   "source": [
    "Y_train = to_categorical(y_train,nb_classes)\n",
    "print(f'Dim après one-hot-encoder {Y_train.shape}')"
   ]
  },
  {
   "cell_type": "code",
   "execution_count": 26,
   "id": "28bf2fb2",
   "metadata": {
    "colab": {
     "base_uri": "https://localhost:8080/"
    },
    "id": "28bf2fb2",
    "executionInfo": {
     "status": "ok",
     "timestamp": 1700037164254,
     "user_tz": -60,
     "elapsed": 303,
     "user": {
      "displayName": "Bassem Ben Hamed",
      "userId": "05085141965811481856"
     }
    },
    "outputId": "b920538e-3a51-4cf3-9d62-e7c9752b829d",
    "ExecuteTime": {
     "end_time": "2024-04-18T11:18:43.845750Z",
     "start_time": "2024-04-18T11:18:43.842360Z"
    }
   },
   "outputs": [
    {
     "data": {
      "text/plain": "5"
     },
     "execution_count": 26,
     "metadata": {},
     "output_type": "execute_result"
    }
   ],
   "source": [
    "y_train[0]"
   ]
  },
  {
   "cell_type": "code",
   "execution_count": 27,
   "id": "acbb2107",
   "metadata": {
    "colab": {
     "base_uri": "https://localhost:8080/"
    },
    "id": "acbb2107",
    "executionInfo": {
     "status": "ok",
     "timestamp": 1700037166831,
     "user_tz": -60,
     "elapsed": 286,
     "user": {
      "displayName": "Bassem Ben Hamed",
      "userId": "05085141965811481856"
     }
    },
    "outputId": "3ef5a7a0-7632-44cf-b48b-55725ded353a",
    "ExecuteTime": {
     "end_time": "2024-04-18T11:18:47.666023Z",
     "start_time": "2024-04-18T11:18:47.658212Z"
    }
   },
   "outputs": [
    {
     "data": {
      "text/plain": "array([0., 0., 0., 0., 0., 1., 0., 0., 0., 0.], dtype=float32)"
     },
     "execution_count": 27,
     "metadata": {},
     "output_type": "execute_result"
    }
   ],
   "source": [
    "Y_train[0]"
   ]
  },
  {
   "cell_type": "markdown",
   "id": "aee77529",
   "metadata": {
    "id": "aee77529"
   },
   "source": [
    "**Modélisation**"
   ]
  },
  {
   "cell_type": "code",
   "execution_count": 28,
   "id": "1b981516",
   "metadata": {
    "id": "1b981516",
    "executionInfo": {
     "status": "ok",
     "timestamp": 1700037947505,
     "user_tz": -60,
     "elapsed": 285,
     "user": {
      "displayName": "Bassem Ben Hamed",
      "userId": "05085141965811481856"
     }
    },
    "ExecuteTime": {
     "end_time": "2024-04-18T11:27:58.313880Z",
     "start_time": "2024-04-18T11:27:58.140866Z"
    }
   },
   "outputs": [
    {
     "name": "stdout",
     "output_type": "stream",
     "text": [
      "Metal device set to: Apple M2 Pro\n"
     ]
    },
    {
     "name": "stderr",
     "output_type": "stream",
     "text": [
      "2024-04-18 12:27:58.146210: I tensorflow/core/common_runtime/pluggable_device/pluggable_device_factory.cc:305] Could not identify NUMA node of platform GPU ID 0, defaulting to 0. Your kernel may not have been built with NUMA support.\n",
      "2024-04-18 12:27:58.146941: I tensorflow/core/common_runtime/pluggable_device/pluggable_device_factory.cc:271] Created TensorFlow device (/job:localhost/replica:0/task:0/device:GPU:0 with 0 MB memory) -> physical PluggableDevice (device: 0, name: METAL, pci bus id: <undefined>)\n"
     ]
    }
   ],
   "source": [
    "model = Sequential()\n",
    "\n",
    "model.add(Dense(512, input_shape=(784,)))\n",
    "model.add(Activation('relu'))\n",
    "model.add(Dropout(0.2))\n",
    "\n",
    "model.add(Dense(512))\n",
    "model.add(Activation('relu'))\n",
    "model.add(Dropout(0.2))\n",
    "\n",
    "model.add(Dense(10))\n",
    "model.add(Activation('softmax'))"
   ]
  },
  {
   "cell_type": "code",
   "execution_count": 29,
   "id": "bfad62ea",
   "metadata": {
    "colab": {
     "base_uri": "https://localhost:8080/"
    },
    "id": "bfad62ea",
    "executionInfo": {
     "status": "ok",
     "timestamp": 1700037962167,
     "user_tz": -60,
     "elapsed": 328,
     "user": {
      "displayName": "Bassem Ben Hamed",
      "userId": "05085141965811481856"
     }
    },
    "outputId": "82d8eab6-88ba-4677-d574-28e74419105f",
    "ExecuteTime": {
     "end_time": "2024-04-18T11:28:40.532852Z",
     "start_time": "2024-04-18T11:28:40.508211Z"
    }
   },
   "outputs": [
    {
     "name": "stdout",
     "output_type": "stream",
     "text": [
      "Model: \"sequential\"\n",
      "_________________________________________________________________\n",
      " Layer (type)                Output Shape              Param #   \n",
      "=================================================================\n",
      " dense (Dense)               (None, 512)               401920    \n",
      "                                                                 \n",
      " activation (Activation)     (None, 512)               0         \n",
      "                                                                 \n",
      " dropout (Dropout)           (None, 512)               0         \n",
      "                                                                 \n",
      " dense_1 (Dense)             (None, 512)               262656    \n",
      "                                                                 \n",
      " activation_1 (Activation)   (None, 512)               0         \n",
      "                                                                 \n",
      " dropout_1 (Dropout)         (None, 512)               0         \n",
      "                                                                 \n",
      " dense_2 (Dense)             (None, 10)                5130      \n",
      "                                                                 \n",
      " activation_2 (Activation)   (None, 10)                0         \n",
      "                                                                 \n",
      "=================================================================\n",
      "Total params: 669,706\n",
      "Trainable params: 669,706\n",
      "Non-trainable params: 0\n",
      "_________________________________________________________________\n"
     ]
    }
   ],
   "source": [
    "model.summary()"
   ]
  },
  {
   "cell_type": "code",
   "execution_count": 30,
   "id": "f2668c52",
   "metadata": {
    "id": "f2668c52",
    "executionInfo": {
     "status": "ok",
     "timestamp": 1700038545528,
     "user_tz": -60,
     "elapsed": 431,
     "user": {
      "displayName": "Bassem Ben Hamed",
      "userId": "05085141965811481856"
     }
    },
    "ExecuteTime": {
     "end_time": "2024-04-18T11:34:08.803809Z",
     "start_time": "2024-04-18T11:34:08.785476Z"
    }
   },
   "outputs": [],
   "source": [
    "model.compile(loss = 'categorical_crossentropy', metrics = ['accuracy'], optimizer = 'adam')"
   ]
  },
  {
   "cell_type": "code",
   "execution_count": 31,
   "id": "00622e7e",
   "metadata": {
    "id": "00622e7e",
    "executionInfo": {
     "status": "ok",
     "timestamp": 1700038565810,
     "user_tz": -60,
     "elapsed": 415,
     "user": {
      "displayName": "Bassem Ben Hamed",
      "userId": "05085141965811481856"
     }
    },
    "ExecuteTime": {
     "end_time": "2024-04-18T11:35:10.662099Z",
     "start_time": "2024-04-18T11:35:10.657448Z"
    }
   },
   "outputs": [],
   "source": [
    "Y_test = to_categorical(y_test,nb_classes)"
   ]
  },
  {
   "cell_type": "code",
   "execution_count": 32,
   "id": "9af719f5",
   "metadata": {
    "colab": {
     "base_uri": "https://localhost:8080/"
    },
    "id": "9af719f5",
    "executionInfo": {
     "status": "ok",
     "timestamp": 1700039091030,
     "user_tz": -60,
     "elapsed": 204033,
     "user": {
      "displayName": "Bassem Ben Hamed",
      "userId": "05085141965811481856"
     }
    },
    "outputId": "552d775e-2b7b-4cb5-9048-45c5f6fbd60b",
    "ExecuteTime": {
     "end_time": "2024-04-18T11:40:11.198434Z",
     "start_time": "2024-04-18T11:38:38.845745Z"
    }
   },
   "outputs": [
    {
     "name": "stdout",
     "output_type": "stream",
     "text": [
      "Epoch 1/20\n"
     ]
    },
    {
     "name": "stderr",
     "output_type": "stream",
     "text": [
      "2024-04-18 12:38:38.898904: W tensorflow/core/platform/profile_utils/cpu_utils.cc:128] Failed to get CPU frequency: 0 Hz\n",
      "2024-04-18 12:38:39.049632: I tensorflow/core/grappler/optimizers/custom_graph_optimizer_registry.cc:113] Plugin optimizer for device_type GPU is enabled.\n",
      "2024-04-18 12:38:43.508066: I tensorflow/core/grappler/optimizers/custom_graph_optimizer_registry.cc:113] Plugin optimizer for device_type GPU is enabled.\n"
     ]
    },
    {
     "name": "stdout",
     "output_type": "stream",
     "text": [
      "469/469 - 5s - loss: 0.2453 - accuracy: 0.9270 - val_loss: 0.1075 - val_accuracy: 0.9644 - 5s/epoch - 11ms/step\n",
      "Epoch 2/20\n",
      "469/469 - 5s - loss: 0.0987 - accuracy: 0.9698 - val_loss: 0.0827 - val_accuracy: 0.9728 - 5s/epoch - 10ms/step\n",
      "Epoch 3/20\n",
      "469/469 - 5s - loss: 0.0691 - accuracy: 0.9779 - val_loss: 0.0751 - val_accuracy: 0.9752 - 5s/epoch - 10ms/step\n",
      "Epoch 4/20\n",
      "469/469 - 5s - loss: 0.0551 - accuracy: 0.9829 - val_loss: 0.0742 - val_accuracy: 0.9770 - 5s/epoch - 10ms/step\n",
      "Epoch 5/20\n",
      "469/469 - 5s - loss: 0.0439 - accuracy: 0.9860 - val_loss: 0.0734 - val_accuracy: 0.9795 - 5s/epoch - 10ms/step\n",
      "Epoch 6/20\n",
      "469/469 - 5s - loss: 0.0361 - accuracy: 0.9884 - val_loss: 0.0672 - val_accuracy: 0.9807 - 5s/epoch - 10ms/step\n",
      "Epoch 7/20\n",
      "469/469 - 4s - loss: 0.0333 - accuracy: 0.9890 - val_loss: 0.0640 - val_accuracy: 0.9817 - 4s/epoch - 10ms/step\n",
      "Epoch 8/20\n",
      "469/469 - 5s - loss: 0.0283 - accuracy: 0.9906 - val_loss: 0.0679 - val_accuracy: 0.9814 - 5s/epoch - 10ms/step\n",
      "Epoch 9/20\n",
      "469/469 - 5s - loss: 0.0276 - accuracy: 0.9909 - val_loss: 0.0714 - val_accuracy: 0.9811 - 5s/epoch - 10ms/step\n",
      "Epoch 10/20\n",
      "469/469 - 5s - loss: 0.0216 - accuracy: 0.9927 - val_loss: 0.0658 - val_accuracy: 0.9813 - 5s/epoch - 10ms/step\n",
      "Epoch 11/20\n",
      "469/469 - 5s - loss: 0.0229 - accuracy: 0.9921 - val_loss: 0.0600 - val_accuracy: 0.9831 - 5s/epoch - 10ms/step\n",
      "Epoch 12/20\n",
      "469/469 - 5s - loss: 0.0227 - accuracy: 0.9924 - val_loss: 0.0661 - val_accuracy: 0.9826 - 5s/epoch - 10ms/step\n",
      "Epoch 13/20\n",
      "469/469 - 5s - loss: 0.0185 - accuracy: 0.9939 - val_loss: 0.0776 - val_accuracy: 0.9806 - 5s/epoch - 10ms/step\n",
      "Epoch 14/20\n",
      "469/469 - 5s - loss: 0.0195 - accuracy: 0.9934 - val_loss: 0.0754 - val_accuracy: 0.9823 - 5s/epoch - 10ms/step\n",
      "Epoch 15/20\n",
      "469/469 - 5s - loss: 0.0184 - accuracy: 0.9937 - val_loss: 0.0832 - val_accuracy: 0.9802 - 5s/epoch - 10ms/step\n",
      "Epoch 16/20\n",
      "469/469 - 5s - loss: 0.0178 - accuracy: 0.9938 - val_loss: 0.0706 - val_accuracy: 0.9831 - 5s/epoch - 10ms/step\n",
      "Epoch 17/20\n",
      "469/469 - 5s - loss: 0.0150 - accuracy: 0.9950 - val_loss: 0.0847 - val_accuracy: 0.9828 - 5s/epoch - 10ms/step\n",
      "Epoch 18/20\n",
      "469/469 - 5s - loss: 0.0175 - accuracy: 0.9941 - val_loss: 0.0769 - val_accuracy: 0.9814 - 5s/epoch - 10ms/step\n",
      "Epoch 19/20\n",
      "469/469 - 5s - loss: 0.0134 - accuracy: 0.9956 - val_loss: 0.0786 - val_accuracy: 0.9817 - 5s/epoch - 10ms/step\n",
      "Epoch 20/20\n",
      "469/469 - 5s - loss: 0.0140 - accuracy: 0.9951 - val_loss: 0.0799 - val_accuracy: 0.9835 - 5s/epoch - 10ms/step\n"
     ]
    }
   ],
   "source": [
    "history = model.fit(X_train,Y_train,\n",
    "                    batch_size = 128,\n",
    "                    epochs = 20,\n",
    "                    verbose = 2,\n",
    "                    validation_data = (X_test,Y_test))"
   ]
  },
  {
   "cell_type": "markdown",
   "id": "f9594eeb",
   "metadata": {
    "id": "f9594eeb"
   },
   "source": [
    "**Enregistrement du modèle**"
   ]
  },
  {
   "cell_type": "code",
   "execution_count": 33,
   "id": "e53596ab",
   "metadata": {
    "id": "e53596ab",
    "executionInfo": {
     "status": "ok",
     "timestamp": 1700039561745,
     "user_tz": -60,
     "elapsed": 339,
     "user": {
      "displayName": "Bassem Ben Hamed",
      "userId": "05085141965811481856"
     }
    },
    "ExecuteTime": {
     "end_time": "2024-04-18T11:41:12.047313Z",
     "start_time": "2024-04-18T11:41:12.043230Z"
    }
   },
   "outputs": [],
   "source": [
    "import os\n",
    "save_dir = '/Users/MacBook/Documents/ISI/DL ISI/1_ANN_HandwrittenMNIST'"
   ]
  },
  {
   "cell_type": "code",
   "execution_count": 34,
   "id": "86212113",
   "metadata": {
    "id": "86212113",
    "executionInfo": {
     "status": "ok",
     "timestamp": 1700039754937,
     "user_tz": -60,
     "elapsed": 371,
     "user": {
      "displayName": "Bassem Ben Hamed",
      "userId": "05085141965811481856"
     }
    },
    "ExecuteTime": {
     "end_time": "2024-04-18T11:42:49.133713Z",
     "start_time": "2024-04-18T11:42:49.128822Z"
    }
   },
   "outputs": [],
   "source": [
    "model_name = 'keras_MNIST.h5'\n",
    "model_path = os.path.join(save_dir, model_name)"
   ]
  },
  {
   "cell_type": "code",
   "execution_count": 35,
   "id": "2daf07f2",
   "metadata": {
    "id": "2daf07f2",
    "executionInfo": {
     "status": "ok",
     "timestamp": 1700039757507,
     "user_tz": -60,
     "elapsed": 940,
     "user": {
      "displayName": "Bassem Ben Hamed",
      "userId": "05085141965811481856"
     }
    },
    "ExecuteTime": {
     "end_time": "2024-04-18T11:42:53.035832Z",
     "start_time": "2024-04-18T11:42:53.008141Z"
    }
   },
   "outputs": [],
   "source": [
    "model.save(model_path)"
   ]
  },
  {
   "cell_type": "code",
   "execution_count": 36,
   "id": "cdd9dcd9",
   "metadata": {
    "colab": {
     "base_uri": "https://localhost:8080/"
    },
    "id": "cdd9dcd9",
    "executionInfo": {
     "status": "ok",
     "timestamp": 1700039788145,
     "user_tz": -60,
     "elapsed": 322,
     "user": {
      "displayName": "Bassem Ben Hamed",
      "userId": "05085141965811481856"
     }
    },
    "outputId": "b62b0436-95a7-4bca-d4ef-12162b2162f8",
    "ExecuteTime": {
     "end_time": "2024-04-18T11:42:56.882108Z",
     "start_time": "2024-04-18T11:42:56.877388Z"
    }
   },
   "outputs": [
    {
     "name": "stdout",
     "output_type": "stream",
     "text": [
      "Modèle enregistré dans /Users/MacBook/Documents/ISI/DL ISI/1_ANN_HandwrittenMNIST/keras_MNIST.h5\n"
     ]
    }
   ],
   "source": [
    "print('Modèle enregistré dans %s' % model_path)"
   ]
  },
  {
   "cell_type": "code",
   "execution_count": 38,
   "id": "90c3f0bb",
   "metadata": {
    "colab": {
     "base_uri": "https://localhost:8080/",
     "height": 500
    },
    "id": "90c3f0bb",
    "executionInfo": {
     "status": "ok",
     "timestamp": 1700039837502,
     "user_tz": -60,
     "elapsed": 401,
     "user": {
      "displayName": "Bassem Ben Hamed",
      "userId": "05085141965811481856"
     }
    },
    "outputId": "01eb549d-459b-4e21-9a2b-75895e42532d",
    "ExecuteTime": {
     "end_time": "2024-04-18T11:43:49.974131Z",
     "start_time": "2024-04-18T11:43:49.916858Z"
    }
   },
   "outputs": [
    {
     "data": {
      "text/plain": "(array([5923., 6742., 5958., 6131., 5842., 5421., 5918., 6265., 5851.,\n        5949.]),\n array([0. , 0.9, 1.8, 2.7, 3.6, 4.5, 5.4, 6.3, 7.2, 8.1, 9. ]),\n <BarContainer object of 10 artists>)"
     },
     "execution_count": 38,
     "metadata": {},
     "output_type": "execute_result"
    },
    {
     "data": {
      "text/plain": "<Figure size 640x480 with 1 Axes>",
      "image/png": "[encoded data removed]"
     },
     "metadata": {},
     "output_type": "display_data"
    }
   ],
   "source": [
    "plt.hist(y_train)"
   ]
  },
  {
   "cell_type": "code",
   "execution_count": 39,
   "id": "da99c2d1",
   "metadata": {
    "colab": {
     "base_uri": "https://localhost:8080/",
     "height": 499
    },
    "id": "da99c2d1",
    "executionInfo": {
     "status": "ok",
     "timestamp": 1700039867172,
     "user_tz": -60,
     "elapsed": 381,
     "user": {
      "displayName": "Bassem Ben Hamed",
      "userId": "05085141965811481856"
     }
    },
    "outputId": "90815bbf-29ac-49fb-ab3c-544c2df35cda",
    "ExecuteTime": {
     "end_time": "2024-04-18T11:44:00.091552Z",
     "start_time": "2024-04-18T11:44:00.033843Z"
    }
   },
   "outputs": [
    {
     "data": {
      "text/plain": "(array([ 980., 1135., 1032., 1010.,  982.,  892.,  958., 1028.,  974.,\n        1009.]),\n array([0. , 0.9, 1.8, 2.7, 3.6, 4.5, 5.4, 6.3, 7.2, 8.1, 9. ]),\n <BarContainer object of 10 artists>)"
     },
     "execution_count": 39,
     "metadata": {},
     "output_type": "execute_result"
    },
    {
     "data": {
      "text/plain": "<Figure size 640x480 with 1 Axes>",
      "image/png": "[encoded data removed]"
     },
     "metadata": {},
     "output_type": "display_data"
    }
   ],
   "source": [
    "plt.hist(y_test)"
   ]
  },
  {
   "cell_type": "code",
   "execution_count": 40,
   "id": "156b4c52",
   "metadata": {
    "colab": {
     "base_uri": "https://localhost:8080/",
     "height": 489
    },
    "id": "156b4c52",
    "executionInfo": {
     "status": "ok",
     "timestamp": 1700039933298,
     "user_tz": -60,
     "elapsed": 841,
     "user": {
      "displayName": "Bassem Ben Hamed",
      "userId": "05085141965811481856"
     }
    },
    "outputId": "a62a512e-05e5-49ef-c75c-7ba2846c1fea",
    "ExecuteTime": {
     "end_time": "2024-04-18T11:50:54.621627Z",
     "start_time": "2024-04-18T11:50:54.533431Z"
    }
   },
   "outputs": [
    {
     "data": {
      "text/plain": "<matplotlib.legend.Legend at 0x2bb041840>"
     },
     "execution_count": 40,
     "metadata": {},
     "output_type": "execute_result"
    },
    {
     "data": {
      "text/plain": "<Figure size 640x480 with 1 Axes>",
      "image/png": "[encoded data removed]"
     },
     "metadata": {},
     "output_type": "display_data"
    }
   ],
   "source": [
    "# Visualiser les métriques\n",
    "plt.plot(history.history['accuracy'])\n",
    "plt.plot(history.history['val_accuracy'])\n",
    "plt.title('Model accuracy')\n",
    "plt.xlabel('Epoch')\n",
    "plt.ylabel('Accuracy')\n",
    "plt.legend(['Train','Test'])"
   ]
  },
  {
   "cell_type": "code",
   "execution_count": 41,
   "id": "5e769c06",
   "metadata": {
    "pycharm": {
     "name": "#%%\n"
    },
    "colab": {
     "base_uri": "https://localhost:8080/",
     "height": 489
    },
    "id": "5e769c06",
    "executionInfo": {
     "status": "ok",
     "timestamp": 1700039941562,
     "user_tz": -60,
     "elapsed": 919,
     "user": {
      "displayName": "Bassem Ben Hamed",
      "userId": "05085141965811481856"
     }
    },
    "outputId": "25c6b025-827d-4499-ccd0-afb3405a5023",
    "ExecuteTime": {
     "end_time": "2024-04-18T11:51:32.205279Z",
     "start_time": "2024-04-18T11:51:32.125546Z"
    }
   },
   "outputs": [
    {
     "data": {
      "text/plain": "<matplotlib.legend.Legend at 0x29afda200>"
     },
     "execution_count": 41,
     "metadata": {},
     "output_type": "execute_result"
    },
    {
     "data": {
      "text/plain": "<Figure size 640x480 with 1 Axes>",
      "image/png": "[encoded data removed]"
     },
     "metadata": {},
     "output_type": "display_data"
    }
   ],
   "source": [
    "plt.plot(history.history['loss'])\n",
    "plt.plot(history.history['val_loss'])\n",
    "plt.title('Model loss')\n",
    "plt.xlabel('Epoch')\n",
    "plt.ylabel('Loss')\n",
    "plt.legend(['Train','Test'])"
   ]
  },
  {
   "cell_type": "code",
   "execution_count": 42,
   "id": "17195a55",
   "metadata": {
    "pycharm": {
     "name": "#%%\n"
    },
    "id": "17195a55",
    "executionInfo": {
     "status": "ok",
     "timestamp": 1700040194661,
     "user_tz": -60,
     "elapsed": 1185,
     "user": {
      "displayName": "Bassem Ben Hamed",
      "userId": "05085141965811481856"
     }
    },
    "ExecuteTime": {
     "end_time": "2024-04-18T11:52:48.727637Z",
     "start_time": "2024-04-18T11:52:48.674815Z"
    }
   },
   "outputs": [],
   "source": [
    "# Evaluation des performances du modèle\n",
    "mnist_model = load_model('/Users/MacBook/Documents/ISI/DL ISI/1_ANN_HandwrittenMNIST/keras_MNIST.h5')"
   ]
  },
  {
   "cell_type": "code",
   "execution_count": 43,
   "id": "0aa6d17b",
   "metadata": {
    "pycharm": {
     "name": "#%%\n"
    },
    "colab": {
     "base_uri": "https://localhost:8080/"
    },
    "id": "0aa6d17b",
    "executionInfo": {
     "status": "ok",
     "timestamp": 1700040227082,
     "user_tz": -60,
     "elapsed": 1949,
     "user": {
      "displayName": "Bassem Ben Hamed",
      "userId": "05085141965811481856"
     }
    },
    "outputId": "c95c0443-e53d-4277-ac64-4203b4b412ab",
    "ExecuteTime": {
     "end_time": "2024-04-18T11:53:47.068159Z",
     "start_time": "2024-04-18T11:53:44.797394Z"
    }
   },
   "outputs": [
    {
     "name": "stderr",
     "output_type": "stream",
     "text": [
      "2024-04-18 12:53:44.846140: I tensorflow/core/grappler/optimizers/custom_graph_optimizer_registry.cc:113] Plugin optimizer for device_type GPU is enabled.\n"
     ]
    },
    {
     "name": "stdout",
     "output_type": "stream",
     "text": [
      "313/313 - 2s - loss: 0.0799 - accuracy: 0.9835 - 2s/epoch - 7ms/step\n"
     ]
    }
   ],
   "source": [
    "loss_and_metrics = mnist_model.evaluate(X_test, Y_test, verbose=2)"
   ]
  },
  {
   "cell_type": "code",
   "execution_count": 44,
   "id": "4a589b65",
   "metadata": {
    "pycharm": {
     "name": "#%%\n"
    },
    "colab": {
     "base_uri": "https://localhost:8080/"
    },
    "id": "4a589b65",
    "executionInfo": {
     "status": "ok",
     "timestamp": 1700040279679,
     "user_tz": -60,
     "elapsed": 493,
     "user": {
      "displayName": "Bassem Ben Hamed",
      "userId": "05085141965811481856"
     }
    },
    "outputId": "238466a5-c05b-4a01-8fa8-5a89a1cf82b0",
    "ExecuteTime": {
     "end_time": "2024-04-18T11:54:53.400391Z",
     "start_time": "2024-04-18T11:54:53.394403Z"
    }
   },
   "outputs": [
    {
     "name": "stdout",
     "output_type": "stream",
     "text": [
      "Loss test 0.0799\n",
      "Accuracy test 0.9835\n"
     ]
    }
   ],
   "source": [
    "print(f'Loss test {round(loss_and_metrics[0],4)}')\n",
    "print(f'Accuracy test {round(loss_and_metrics[1],4)}')"
   ]
  },
  {
   "cell_type": "code",
   "execution_count": 45,
   "id": "6cae946f",
   "metadata": {
    "pycharm": {
     "name": "#%%\n"
    },
    "colab": {
     "base_uri": "https://localhost:8080/"
    },
    "id": "6cae946f",
    "executionInfo": {
     "status": "ok",
     "timestamp": 1700040357455,
     "user_tz": -60,
     "elapsed": 1764,
     "user": {
      "displayName": "Bassem Ben Hamed",
      "userId": "05085141965811481856"
     }
    },
    "outputId": "b005076e-5122-4ec5-c9f0-7189974da3cb",
    "ExecuteTime": {
     "end_time": "2024-04-18T11:55:14.833878Z",
     "start_time": "2024-04-18T11:55:14.213163Z"
    }
   },
   "outputs": [
    {
     "name": "stdout",
     "output_type": "stream",
     "text": [
      " 91/313 [=======>......................] - ETA: 0s"
     ]
    },
    {
     "name": "stderr",
     "output_type": "stream",
     "text": [
      "2024-04-18 12:55:14.255877: I tensorflow/core/grappler/optimizers/custom_graph_optimizer_registry.cc:113] Plugin optimizer for device_type GPU is enabled.\n"
     ]
    },
    {
     "name": "stdout",
     "output_type": "stream",
     "text": [
      "313/313 [==============================] - 1s 2ms/step\n"
     ]
    }
   ],
   "source": [
    "predict_X = mnist_model.predict(X_test)"
   ]
  },
  {
   "cell_type": "code",
   "outputs": [
    {
     "data": {
      "text/plain": "(10000, 10)"
     },
     "execution_count": 49,
     "metadata": {},
     "output_type": "execute_result"
    }
   ],
   "source": [
    "predict_X.shape"
   ],
   "metadata": {
    "collapsed": false,
    "ExecuteTime": {
     "end_time": "2024-04-18T11:57:38.895741Z",
     "start_time": "2024-04-18T11:57:38.880149Z"
    }
   },
   "id": "3a90065fd5a8abce",
   "execution_count": 49
  },
  {
   "cell_type": "code",
   "execution_count": 50,
   "id": "25814163",
   "metadata": {
    "pycharm": {
     "name": "#%%\n"
    },
    "id": "25814163",
    "executionInfo": {
     "status": "ok",
     "timestamp": 1700040441762,
     "user_tz": -60,
     "elapsed": 369,
     "user": {
      "displayName": "Bassem Ben Hamed",
      "userId": "05085141965811481856"
     }
    },
    "ExecuteTime": {
     "end_time": "2024-04-18T11:57:45.034356Z",
     "start_time": "2024-04-18T11:57:45.027607Z"
    }
   },
   "outputs": [],
   "source": [
    "predicted_classes = np.argmax(predict_X, axis=1)"
   ]
  },
  {
   "cell_type": "code",
   "outputs": [
    {
     "data": {
      "text/plain": "(10000,)"
     },
     "execution_count": 51,
     "metadata": {},
     "output_type": "execute_result"
    }
   ],
   "source": [
    "predicted_classes.shape"
   ],
   "metadata": {
    "collapsed": false,
    "ExecuteTime": {
     "end_time": "2024-04-18T11:57:59.675551Z",
     "start_time": "2024-04-18T11:57:59.660411Z"
    }
   },
   "id": "e259aeebfa7bc5bb",
   "execution_count": 51
  },
  {
   "cell_type": "code",
   "outputs": [
    {
     "data": {
      "text/plain": "7"
     },
     "execution_count": 52,
     "metadata": {},
     "output_type": "execute_result"
    }
   ],
   "source": [
    "predicted_classes[0]"
   ],
   "metadata": {
    "collapsed": false,
    "ExecuteTime": {
     "end_time": "2024-04-18T11:58:14.284774Z",
     "start_time": "2024-04-18T11:58:14.270048Z"
    }
   },
   "id": "66f2b9d08f0f051d",
   "execution_count": 52
  },
  {
   "cell_type": "code",
   "execution_count": 53,
   "id": "b0855596",
   "metadata": {
    "pycharm": {
     "name": "#%%\n"
    },
    "colab": {
     "base_uri": "https://localhost:8080/"
    },
    "id": "b0855596",
    "executionInfo": {
     "status": "ok",
     "timestamp": 1700040454327,
     "user_tz": -60,
     "elapsed": 349,
     "user": {
      "displayName": "Bassem Ben Hamed",
      "userId": "05085141965811481856"
     }
    },
    "outputId": "8b073a32-3a76-4bd2-b910-867ac2f6e9ac",
    "ExecuteTime": {
     "end_time": "2024-04-18T11:58:18.168880Z",
     "start_time": "2024-04-18T11:58:18.164188Z"
    }
   },
   "outputs": [
    {
     "name": "stdout",
     "output_type": "stream",
     "text": [
      "[7, 7]\n",
      "[2, 2]\n",
      "[1, 1]\n",
      "[0, 0]\n",
      "[4, 4]\n",
      "[1, 1]\n",
      "[4, 4]\n",
      "[9, 9]\n",
      "[5, 5]\n",
      "[9, 9]\n"
     ]
    }
   ],
   "source": [
    "for i in range(10):\n",
    "    print([y_test[i],predicted_classes[i]])"
   ]
  },
  {
   "cell_type": "code",
   "execution_count": 54,
   "id": "e25d044c",
   "metadata": {
    "pycharm": {
     "name": "#%%\n"
    },
    "colab": {
     "base_uri": "https://localhost:8080/"
    },
    "id": "e25d044c",
    "executionInfo": {
     "status": "ok",
     "timestamp": 1700040499520,
     "user_tz": -60,
     "elapsed": 318,
     "user": {
      "displayName": "Bassem Ben Hamed",
      "userId": "05085141965811481856"
     }
    },
    "outputId": "892af268-f200-40c3-87d3-61ebbaa93179",
    "ExecuteTime": {
     "end_time": "2024-04-18T11:58:40.574123Z",
     "start_time": "2024-04-18T11:58:40.567592Z"
    }
   },
   "outputs": [
    {
     "data": {
      "text/plain": "(array([ 247,  340,  412,  445,  449,  495,  582,  659,  691,  720,  726,\n         844,  947,  951,  956, 1014, 1039, 1050, 1112, 1156, 1178, 1181,\n        1226, 1232, 1242, 1247, 1260, 1319, 1328, 1393, 1395, 1444, 1500,\n        1522, 1530, 1549, 1609, 1751, 1754, 1790, 1878, 1901, 1911, 1941,\n        2004, 2029, 2043, 2053, 2070, 2098, 2109, 2135, 2182, 2291, 2293,\n        2369, 2387, 2422, 2462, 2488, 2582, 2597, 2607, 2648, 2654, 2720,\n        2730, 2877, 2921, 2927, 2939, 2953, 3005, 3384, 3422, 3441, 3451,\n        3475, 3503, 3520, 3549, 3597, 3702, 3776, 3780, 3808, 3811, 3818,\n        3838, 3869, 3893, 3906, 3941, 3943, 3976, 3985, 4027, 4065, 4140,\n        4154, 4163, 4176, 4193, 4199, 4248, 4271, 4289, 4369, 4487, 4497,\n        4500, 4571, 4690, 4740, 4761, 4814, 4823, 4879, 4880, 5138, 5331,\n        5642, 5745, 5887, 5891, 5913, 5936, 5937, 5955, 5973, 6166, 6555,\n        6571, 6576, 6597, 6608, 6625, 6641, 6651, 6755, 6783, 6847, 7216,\n        8243, 8325, 8408, 8527, 8584, 9009, 9015, 9019, 9024, 9280, 9587,\n        9634, 9642, 9664, 9679, 9692, 9729, 9745, 9808, 9839, 9858, 9944]),)"
     },
     "execution_count": 54,
     "metadata": {},
     "output_type": "execute_result"
    }
   ],
   "source": [
    "np.nonzero(predicted_classes!=y_test)"
   ]
  },
  {
   "cell_type": "code",
   "execution_count": 55,
   "id": "5fe37756",
   "metadata": {
    "pycharm": {
     "name": "#%%\n"
    },
    "colab": {
     "base_uri": "https://localhost:8080/"
    },
    "id": "5fe37756",
    "executionInfo": {
     "status": "ok",
     "timestamp": 1700040511681,
     "user_tz": -60,
     "elapsed": 288,
     "user": {
      "displayName": "Bassem Ben Hamed",
      "userId": "05085141965811481856"
     }
    },
    "outputId": "c8b2381d-5d12-4353-c825-56affc3c5601",
    "ExecuteTime": {
     "end_time": "2024-04-18T11:58:46.421227Z",
     "start_time": "2024-04-18T11:58:46.413327Z"
    }
   },
   "outputs": [
    {
     "data": {
      "text/plain": "[4, 2]"
     },
     "execution_count": 55,
     "metadata": {},
     "output_type": "execute_result"
    }
   ],
   "source": [
    "[y_test[247],predicted_classes[247]]"
   ]
  },
  {
   "cell_type": "code",
   "execution_count": 56,
   "id": "e04bdaf2",
   "metadata": {
    "pycharm": {
     "name": "#%%\n"
    },
    "id": "e04bdaf2",
    "executionInfo": {
     "status": "ok",
     "timestamp": 1700040541775,
     "user_tz": -60,
     "elapsed": 407,
     "user": {
      "displayName": "Bassem Ben Hamed",
      "userId": "05085141965811481856"
     }
    },
    "ExecuteTime": {
     "end_time": "2024-04-18T11:59:13.644473Z",
     "start_time": "2024-04-18T11:59:13.640504Z"
    }
   },
   "outputs": [],
   "source": [
    "correct_indices = np.nonzero(predicted_classes == y_test)[0]\n",
    "incorrect_indices = np.nonzero(predicted_classes != y_test)[0]"
   ]
  },
  {
   "cell_type": "code",
   "execution_count": 57,
   "id": "4b8888d1",
   "metadata": {
    "pycharm": {
     "name": "#%%\n"
    },
    "colab": {
     "base_uri": "https://localhost:8080/",
     "height": 463
    },
    "id": "4b8888d1",
    "executionInfo": {
     "status": "ok",
     "timestamp": 1700040568103,
     "user_tz": -60,
     "elapsed": 2285,
     "user": {
      "displayName": "Bassem Ben Hamed",
      "userId": "05085141965811481856"
     }
    },
    "outputId": "74006a09-18f3-457f-ba02-5180f9cb1f8a",
    "ExecuteTime": {
     "end_time": "2024-04-18T11:59:19.883429Z",
     "start_time": "2024-04-18T11:59:19.591715Z"
    }
   },
   "outputs": [
    {
     "data": {
      "text/plain": "<Figure size 640x480 with 9 Axes>",
      "image/png": "[encoded data removed]"
     },
     "metadata": {},
     "output_type": "display_data"
    }
   ],
   "source": [
    "for i, correct in enumerate(correct_indices[:9]):\n",
    "    plt.subplot(3,3,i+1)\n",
    "    plt.tight_layout()\n",
    "    plt.imshow(X_test[correct].reshape(28,28), cmap = 'gray')\n",
    "    plt.title(f'Truth {y_test[correct]}, Predicted {predicted_classes[correct]}')\n",
    "    plt.xticks([])\n",
    "    plt.yticks([])"
   ]
  },
  {
   "cell_type": "code",
   "execution_count": 58,
   "id": "487f4c09",
   "metadata": {
    "pycharm": {
     "name": "#%%\n"
    },
    "colab": {
     "base_uri": "https://localhost:8080/",
     "height": 463
    },
    "id": "487f4c09",
    "executionInfo": {
     "status": "ok",
     "timestamp": 1700040609196,
     "user_tz": -60,
     "elapsed": 1732,
     "user": {
      "displayName": "Bassem Ben Hamed",
      "userId": "05085141965811481856"
     }
    },
    "outputId": "ef390c1e-03c1-41df-e14d-c187cbc62726",
    "ExecuteTime": {
     "end_time": "2024-04-18T11:59:29.682520Z",
     "start_time": "2024-04-18T11:59:29.463023Z"
    }
   },
   "outputs": [
    {
     "data": {
      "text/plain": "<Figure size 640x480 with 9 Axes>",
      "image/png": "[encoded data removed]"
     },
     "metadata": {},
     "output_type": "display_data"
    }
   ],
   "source": [
    "for i, incorrect in enumerate(incorrect_indices[:9]):\n",
    "    plt.subplot(3,3,i+1)\n",
    "    plt.tight_layout()\n",
    "    plt.imshow(X_test[incorrect].reshape(28,28), cmap = 'gray')\n",
    "    plt.title(f'Truth {y_test[incorrect]}, Predicted {predicted_classes[incorrect]}')\n",
    "    plt.xticks([])\n",
    "    plt.yticks([])"
   ]
  },
  {
   "cell_type": "code",
   "execution_count": 43,
   "id": "df91487a",
   "metadata": {
    "pycharm": {
     "name": "#%%\n"
    },
    "id": "df91487a",
    "ExecuteTime": {
     "end_time": "2024-04-17T21:34:08.922868Z",
     "start_time": "2024-04-17T21:34:08.920904Z"
    }
   },
   "outputs": [],
   "source": []
  }
 ],
 "metadata": {
  "kernelspec": {
   "display_name": "Python 3 (ipykernel)",
   "language": "python",
   "name": "python3"
  },
  "language_info": {
   "codemirror_mode": {
    "name": "ipython",
    "version": 3
   },
   "file_extension": ".py",
   "mimetype": "text/x-python",
   "name": "python",
   "nbconvert_exporter": "python",
   "pygments_lexer": "ipython3",
   "version": "3.11.4"
  },
  "colab": {
   "provenance": []
  }
 },
 "nbformat": 4,
 "nbformat_minor": 5
}
