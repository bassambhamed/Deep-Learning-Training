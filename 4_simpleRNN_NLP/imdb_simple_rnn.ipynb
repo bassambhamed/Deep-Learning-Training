{
 "metadata": {
  "kernelspec": {
   "language": "python",
   "display_name": "Python 3",
   "name": "python3"
  },
  "language_info": {
   "pygments_lexer": "ipython3",
   "nbconvert_exporter": "python",
   "version": "3.6.4",
   "file_extension": ".py",
   "codemirror_mode": {
    "name": "ipython",
    "version": 3
   },
   "name": "python",
   "mimetype": "text/x-python"
  },
  "colab": {
   "provenance": []
  }
 },
 "nbformat_minor": 0,
 "nbformat": 4,
 "cells": [
  {
   "cell_type": "code",
   "source": [
    "# from google.colab import drive\n",
    "# drive.mount('/content/drive')"
   ],
   "metadata": {
    "colab": {
     "base_uri": "https://localhost:8080/"
    },
    "id": "nwFSM7yH0fee",
    "executionInfo": {
     "status": "ok",
     "timestamp": 1700140504328,
     "user_tz": -60,
     "elapsed": 37576,
     "user": {
      "displayName": "Bassem Ben Hamed",
      "userId": "05085141965811481856"
     }
    },
    "outputId": "fd25d268-eb52-4f58-acc8-f82af5ea2734",
    "ExecuteTime": {
     "end_time": "2024-04-29T20:41:40.848874Z",
     "start_time": "2024-04-29T20:41:40.843736Z"
    }
   },
   "execution_count": 1,
   "outputs": []
  },
  {
   "cell_type": "code",
   "source": [
    "import numpy as np\n",
    "import pandas as pd\n",
    "import seaborn as sns\n",
    "import matplotlib.pyplot as plt\n",
    "\n",
    "from scipy import stats\n",
    "from tensorflow.keras.datasets import imdb\n",
    "from tensorflow.keras.preprocessing.sequence import pad_sequences\n",
    "from tensorflow.keras.models import Sequential\n",
    "from tensorflow.keras.layers import Embedding\n",
    "from tensorflow.keras.layers import SimpleRNN,Dense,Activation"
   ],
   "metadata": {
    "id": "Pzy0l5QTzlFP",
    "ExecuteTime": {
     "end_time": "2024-04-29T20:41:42.377206Z",
     "start_time": "2024-04-29T20:41:40.846240Z"
    }
   },
   "execution_count": 2,
   "outputs": []
  },
  {
   "cell_type": "code",
   "source": [
    "(X_train,Y_train),(X_test,Y_test) = imdb.load_data(path=\"imdb.npz\",num_words=None,skip_top=0,maxlen=None,start_char=1,seed=13,oov_char=2,index_from=3)"
   ],
   "metadata": {
    "_uuid": "d629ff2d2480ee46fbb7e2d37f6b5fab8052498a",
    "_cell_guid": "79c7e3d0-c299-4dcb-8224-4455121ee9b0",
    "trusted": true,
    "colab": {
     "base_uri": "https://localhost:8080/"
    },
    "id": "-tVEcU2ByoQp",
    "executionInfo": {
     "status": "ok",
     "timestamp": 1699780808018,
     "user_tz": -60,
     "elapsed": 8024,
     "user": {
      "displayName": "Bassem Ben Hamed",
      "userId": "05085141965811481856"
     }
    },
    "outputId": "88224f61-cc0e-43c1-f916-8d54501f8edd",
    "ExecuteTime": {
     "end_time": "2024-04-29T20:42:01.352126Z",
     "start_time": "2024-04-29T20:41:42.377578Z"
    }
   },
   "execution_count": 3,
   "outputs": [
    {
     "name": "stdout",
     "output_type": "stream",
     "text": [
      "Downloading data from https://storage.googleapis.com/tensorflow/tf-keras-datasets/imdb.npz\n",
      "17464789/17464789 [==============================] - 17s 1us/step\n"
     ]
    }
   ]
  },
  {
   "cell_type": "code",
   "source": [
    "print(\"Type: \", type(X_train))\n",
    "print(\"Type: \", type(Y_train))"
   ],
   "metadata": {
    "trusted": true,
    "colab": {
     "base_uri": "https://localhost:8080/"
    },
    "id": "L5Q95SrqyoQq",
    "executionInfo": {
     "status": "ok",
     "timestamp": 1699780815279,
     "user_tz": -60,
     "elapsed": 292,
     "user": {
      "displayName": "Bassem Ben Hamed",
      "userId": "05085141965811481856"
     }
    },
    "outputId": "91e75e6f-34d1-4f0f-eb33-3c3965c38b8a",
    "ExecuteTime": {
     "end_time": "2024-04-29T20:42:01.356169Z",
     "start_time": "2024-04-29T20:42:01.352374Z"
    }
   },
   "execution_count": 4,
   "outputs": [
    {
     "name": "stdout",
     "output_type": "stream",
     "text": [
      "Type:  <class 'numpy.ndarray'>\n",
      "Type:  <class 'numpy.ndarray'>\n"
     ]
    }
   ]
  },
  {
   "cell_type": "code",
   "source": [
    "print(\"X train shape: \",X_train.shape)\n",
    "print(\"Y train shape: \",Y_train.shape)"
   ],
   "metadata": {
    "trusted": true,
    "colab": {
     "base_uri": "https://localhost:8080/"
    },
    "id": "htsGSwh-yoQr",
    "executionInfo": {
     "status": "ok",
     "timestamp": 1699780823283,
     "user_tz": -60,
     "elapsed": 309,
     "user": {
      "displayName": "Bassem Ben Hamed",
      "userId": "05085141965811481856"
     }
    },
    "outputId": "f7dabeea-e40f-41f9-ae8e-518606d8fc6d",
    "ExecuteTime": {
     "end_time": "2024-04-29T20:42:01.357458Z",
     "start_time": "2024-04-29T20:42:01.354652Z"
    }
   },
   "execution_count": 5,
   "outputs": [
    {
     "name": "stdout",
     "output_type": "stream",
     "text": [
      "X train shape:  (25000,)\n",
      "Y train shape:  (25000,)\n"
     ]
    }
   ]
  },
  {
   "cell_type": "markdown",
   "source": [
    "## Exploratory Data Analysis(EDA)"
   ],
   "metadata": {
    "id": "Z1IfKuTUyoQs"
   }
  },
  {
   "cell_type": "code",
   "source": [
    "print(\"Y train values: \",np.unique(Y_train))\n",
    "print(\"Y test values: \",np.unique(Y_test))"
   ],
   "metadata": {
    "trusted": true,
    "colab": {
     "base_uri": "https://localhost:8080/"
    },
    "id": "JYre_ChCyoQv",
    "executionInfo": {
     "status": "ok",
     "timestamp": 1699780839729,
     "user_tz": -60,
     "elapsed": 322,
     "user": {
      "displayName": "Bassem Ben Hamed",
      "userId": "05085141965811481856"
     }
    },
    "outputId": "feb9abfe-d7b5-4e28-f33c-8869829dbb6b",
    "ExecuteTime": {
     "end_time": "2024-04-29T20:42:01.367408Z",
     "start_time": "2024-04-29T20:42:01.357120Z"
    }
   },
   "execution_count": 6,
   "outputs": [
    {
     "name": "stdout",
     "output_type": "stream",
     "text": [
      "Y train values:  [0 1]\n",
      "Y test values:  [0 1]\n"
     ]
    }
   ]
  },
  {
   "cell_type": "code",
   "source": [
    "unique,counts = np.unique(Y_train,return_counts=True)\n",
    "print(\"Y train distribution: \", dict(zip(unique,counts)))"
   ],
   "metadata": {
    "trusted": true,
    "colab": {
     "base_uri": "https://localhost:8080/"
    },
    "id": "BNstw_SVyoQw",
    "executionInfo": {
     "status": "ok",
     "timestamp": 1699780845338,
     "user_tz": -60,
     "elapsed": 413,
     "user": {
      "displayName": "Bassem Ben Hamed",
      "userId": "05085141965811481856"
     }
    },
    "outputId": "98abf145-de3f-457d-ccc0-b3c6a9a23114",
    "ExecuteTime": {
     "end_time": "2024-04-29T20:42:01.368066Z",
     "start_time": "2024-04-29T20:42:01.361255Z"
    }
   },
   "execution_count": 7,
   "outputs": [
    {
     "name": "stdout",
     "output_type": "stream",
     "text": [
      "Y train distribution:  {0: 12500, 1: 12500}\n"
     ]
    }
   ]
  },
  {
   "cell_type": "code",
   "source": [
    "unique,counts = np.unique(Y_test,return_counts=True)\n",
    "print(\"Y test distribution: \", dict(zip(unique,counts)))"
   ],
   "metadata": {
    "trusted": true,
    "colab": {
     "base_uri": "https://localhost:8080/"
    },
    "id": "bqDcfsxwyoQx",
    "executionInfo": {
     "status": "ok",
     "timestamp": 1699780857525,
     "user_tz": -60,
     "elapsed": 325,
     "user": {
      "displayName": "Bassem Ben Hamed",
      "userId": "05085141965811481856"
     }
    },
    "outputId": "f62d4527-fe0b-475c-a8e3-da824368f2de",
    "ExecuteTime": {
     "end_time": "2024-04-29T20:42:01.368496Z",
     "start_time": "2024-04-29T20:42:01.363561Z"
    }
   },
   "execution_count": 8,
   "outputs": [
    {
     "name": "stdout",
     "output_type": "stream",
     "text": [
      "Y test distribution:  {0: 12500, 1: 12500}\n"
     ]
    }
   ]
  },
  {
   "cell_type": "code",
   "source": [
    "print(X_train[0])"
   ],
   "metadata": {
    "trusted": true,
    "colab": {
     "base_uri": "https://localhost:8080/"
    },
    "id": "buALlUBYyoQ0",
    "executionInfo": {
     "status": "ok",
     "timestamp": 1699780915762,
     "user_tz": -60,
     "elapsed": 305,
     "user": {
      "displayName": "Bassem Ben Hamed",
      "userId": "05085141965811481856"
     }
    },
    "outputId": "1356c2ca-684a-4d9d-a459-137becb0fa48",
    "ExecuteTime": {
     "end_time": "2024-04-29T20:42:01.369255Z",
     "start_time": "2024-04-29T20:42:01.366115Z"
    }
   },
   "execution_count": 9,
   "outputs": [
    {
     "name": "stdout",
     "output_type": "stream",
     "text": [
      "[1, 608, 13, 6467, 14, 22, 13, 80, 1109, 14, 20, 584, 18, 231, 72, 141, 6, 783, 254, 189, 7060, 13, 100, 115, 106, 14, 20, 584, 207, 82, 557, 111, 111, 537, 7, 4, 962, 12, 69, 11, 45, 204, 766, 33, 4, 8334, 23, 94, 797, 1048, 991, 527, 1987, 538, 2629, 4, 4518, 125, 72, 449, 8295, 68, 3385, 2500, 93, 14, 1190, 22, 13, 119, 12, 13, 197, 4, 226, 22, 16, 542, 5, 221, 14, 20, 9, 38, 629, 14, 9, 4, 6128, 20, 13, 28, 126, 110, 11, 61, 113, 24, 15, 51, 571, 11, 4, 22, 5, 4, 326, 7, 4, 22, 26, 24, 629, 195, 21, 51, 210, 188, 72, 16, 21849, 2726, 116, 118, 189, 22, 126, 164, 70, 126, 30, 14, 629, 174, 2195, 829, 33, 94, 61124]\n"
     ]
    }
   ]
  },
  {
   "cell_type": "code",
   "source": [
    "review_len_train = []\n",
    "review_len_test = []\n",
    "for i,j in zip(X_train,X_test):\n",
    "    review_len_train.append(len(i))\n",
    "    review_len_test.append(len(j))"
   ],
   "metadata": {
    "trusted": true,
    "id": "PlCAWqQnyoQ0",
    "ExecuteTime": {
     "end_time": "2024-04-29T20:42:01.382904Z",
     "start_time": "2024-04-29T20:42:01.371875Z"
    }
   },
   "execution_count": 10,
   "outputs": []
  },
  {
   "cell_type": "code",
   "source": [
    "print(\"min: \", min(review_len_train), \"max: \", max(review_len_train))"
   ],
   "metadata": {
    "trusted": true,
    "colab": {
     "base_uri": "https://localhost:8080/"
    },
    "id": "0Gm-cxaByoQ0",
    "executionInfo": {
     "status": "ok",
     "timestamp": 1699780950718,
     "user_tz": -60,
     "elapsed": 325,
     "user": {
      "displayName": "Bassem Ben Hamed",
      "userId": "05085141965811481856"
     }
    },
    "outputId": "d49ed654-f7a2-4d7d-ff74-82357dee9168",
    "ExecuteTime": {
     "end_time": "2024-04-29T20:42:01.383378Z",
     "start_time": "2024-04-29T20:42:01.374126Z"
    }
   },
   "execution_count": 11,
   "outputs": [
    {
     "name": "stdout",
     "output_type": "stream",
     "text": [
      "min:  11 max:  2494\n"
     ]
    }
   ]
  },
  {
   "cell_type": "code",
   "source": [
    "print(\"min: \", min(review_len_test), \"max: \", max(review_len_test))"
   ],
   "metadata": {
    "trusted": true,
    "colab": {
     "base_uri": "https://localhost:8080/"
    },
    "id": "4eqtnAxHyoQ1",
    "executionInfo": {
     "status": "ok",
     "timestamp": 1699780955375,
     "user_tz": -60,
     "elapsed": 328,
     "user": {
      "displayName": "Bassem Ben Hamed",
      "userId": "05085141965811481856"
     }
    },
    "outputId": "18d511d3-c5ad-4f06-fd10-0c3a504e0f79",
    "ExecuteTime": {
     "end_time": "2024-04-29T20:42:01.460836Z",
     "start_time": "2024-04-29T20:42:01.381861Z"
    }
   },
   "execution_count": 12,
   "outputs": [
    {
     "name": "stdout",
     "output_type": "stream",
     "text": [
      "min:  7 max:  2315\n"
     ]
    }
   ]
  },
  {
   "cell_type": "code",
   "source": [
    "sns.distplot(review_len_train,hist_kws={\"alpha\":0.3});\n",
    "sns.distplot(review_len_test,hist_kws={\"alpha\":0.3});"
   ],
   "metadata": {
    "trusted": true,
    "colab": {
     "base_uri": "https://localhost:8080/",
     "height": 812
    },
    "id": "teA-6FAyyoQ1",
    "executionInfo": {
     "status": "ok",
     "timestamp": 1699780960318,
     "user_tz": -60,
     "elapsed": 1239,
     "user": {
      "displayName": "Bassem Ben Hamed",
      "userId": "05085141965811481856"
     }
    },
    "outputId": "89e26d86-4f46-40c5-ad4f-90c13353b7ff",
    "ExecuteTime": {
     "end_time": "2024-04-29T20:42:01.808069Z",
     "start_time": "2024-04-29T20:42:01.385034Z"
    }
   },
   "execution_count": 13,
   "outputs": [
    {
     "name": "stderr",
     "output_type": "stream",
     "text": [
      "/var/folders/p9/7wy2yhxj0ldc7dh66jzfsc1m0000gn/T/ipykernel_2061/313270719.py:1: UserWarning: \n",
      "\n",
      "`distplot` is a deprecated function and will be removed in seaborn v0.14.0.\n",
      "\n",
      "Please adapt your code to use either `displot` (a figure-level function with\n",
      "similar flexibility) or `histplot` (an axes-level function for histograms).\n",
      "\n",
      "For a guide to updating your code to use the new functions, please see\n",
      "https://gist.github.com/mwaskom/de44147ed2974457ad6372750bbe5751\n",
      "\n",
      "  sns.distplot(review_len_train,hist_kws={\"alpha\":0.3});\n",
      "/opt/anaconda3/envs/tensorflow/lib/python3.10/site-packages/seaborn/_oldcore.py:1119: FutureWarning: use_inf_as_na option is deprecated and will be removed in a future version. Convert inf values to NaN before operating instead.\n",
      "  with pd.option_context('mode.use_inf_as_na', True):\n",
      "/var/folders/p9/7wy2yhxj0ldc7dh66jzfsc1m0000gn/T/ipykernel_2061/313270719.py:2: UserWarning: \n",
      "\n",
      "`distplot` is a deprecated function and will be removed in seaborn v0.14.0.\n",
      "\n",
      "Please adapt your code to use either `displot` (a figure-level function with\n",
      "similar flexibility) or `histplot` (an axes-level function for histograms).\n",
      "\n",
      "For a guide to updating your code to use the new functions, please see\n",
      "https://gist.github.com/mwaskom/de44147ed2974457ad6372750bbe5751\n",
      "\n",
      "  sns.distplot(review_len_test,hist_kws={\"alpha\":0.3});\n",
      "/opt/anaconda3/envs/tensorflow/lib/python3.10/site-packages/seaborn/_oldcore.py:1119: FutureWarning: use_inf_as_na option is deprecated and will be removed in a future version. Convert inf values to NaN before operating instead.\n",
      "  with pd.option_context('mode.use_inf_as_na', True):\n"
     ]
    },
    {
     "data": {
      "text/plain": "<Figure size 640x480 with 1 Axes>",
      "image/png": "[encoded data removed]"
     },
     "metadata": {},
     "output_type": "display_data"
    }
   ]
  },
  {
   "cell_type": "code",
   "source": [
    "print(\"Train mean: \",np.mean(review_len_train))\n",
    "print(\"Train median: \",np.median(review_len_train))\n",
    "print(\"Train mode: \",stats.mode(review_len_train))"
   ],
   "metadata": {
    "trusted": true,
    "colab": {
     "base_uri": "https://localhost:8080/"
    },
    "id": "JQGALFcuyoQ1",
    "executionInfo": {
     "status": "ok",
     "timestamp": 1699780976134,
     "user_tz": -60,
     "elapsed": 422,
     "user": {
      "displayName": "Bassem Ben Hamed",
      "userId": "05085141965811481856"
     }
    },
    "outputId": "c603b814-26b0-49a2-cc7d-3ddf8e1c082f",
    "ExecuteTime": {
     "end_time": "2024-04-29T20:42:01.819689Z",
     "start_time": "2024-04-29T20:42:01.809915Z"
    }
   },
   "execution_count": 14,
   "outputs": [
    {
     "name": "stdout",
     "output_type": "stream",
     "text": [
      "Train mean:  238.71364\n",
      "Train median:  178.0\n",
      "Train mode:  ModeResult(mode=132, count=196)\n"
     ]
    }
   ]
  },
  {
   "cell_type": "code",
   "source": [
    "# number or words\n",
    "word_index = imdb.get_word_index()\n",
    "print(type(word_index))"
   ],
   "metadata": {
    "trusted": true,
    "colab": {
     "base_uri": "https://localhost:8080/"
    },
    "id": "f7Ikc2skyoQ2",
    "executionInfo": {
     "status": "ok",
     "timestamp": 1699780999041,
     "user_tz": -60,
     "elapsed": 357,
     "user": {
      "displayName": "Bassem Ben Hamed",
      "userId": "05085141965811481856"
     }
    },
    "outputId": "7b3f57af-dc2c-44c6-9701-3a4b2c2304d7",
    "ExecuteTime": {
     "end_time": "2024-04-29T20:42:03.842660Z",
     "start_time": "2024-04-29T20:42:01.818988Z"
    }
   },
   "execution_count": 15,
   "outputs": [
    {
     "name": "stdout",
     "output_type": "stream",
     "text": [
      "Downloading data from https://storage.googleapis.com/tensorflow/tf-keras-datasets/imdb_word_index.json\n",
      "1641221/1641221 [==============================] - 2s 1us/step\n",
      "<class 'dict'>\n"
     ]
    }
   ]
  },
  {
   "cell_type": "code",
   "source": [
    "print(\"length of word_index: \",len(word_index))"
   ],
   "metadata": {
    "trusted": true,
    "colab": {
     "base_uri": "https://localhost:8080/"
    },
    "id": "Kor-CvwPyoQ2",
    "executionInfo": {
     "status": "ok",
     "timestamp": 1699781011886,
     "user_tz": -60,
     "elapsed": 400,
     "user": {
      "displayName": "Bassem Ben Hamed",
      "userId": "05085141965811481856"
     }
    },
    "outputId": "460aff6e-bf17-49d1-d97e-249bd6071653",
    "ExecuteTime": {
     "end_time": "2024-04-29T20:42:03.855142Z",
     "start_time": "2024-04-29T20:42:03.825156Z"
    }
   },
   "execution_count": 16,
   "outputs": [
    {
     "name": "stdout",
     "output_type": "stream",
     "text": [
      "length of word_index:  88584\n"
     ]
    }
   ]
  },
  {
   "cell_type": "code",
   "source": [
    "for keys,values in word_index.items():\n",
    "    if values == 1:\n",
    "        print(keys)"
   ],
   "metadata": {
    "trusted": true,
    "colab": {
     "base_uri": "https://localhost:8080/"
    },
    "id": "Xt0cJz9IyoQ2",
    "executionInfo": {
     "status": "ok",
     "timestamp": 1699781017845,
     "user_tz": -60,
     "elapsed": 317,
     "user": {
      "displayName": "Bassem Ben Hamed",
      "userId": "05085141965811481856"
     }
    },
    "outputId": "e2650aed-c1bd-45e2-d0d1-f4841cc38066",
    "ExecuteTime": {
     "end_time": "2024-04-29T20:42:03.855696Z",
     "start_time": "2024-04-29T20:42:03.834910Z"
    }
   },
   "execution_count": 17,
   "outputs": [
    {
     "name": "stdout",
     "output_type": "stream",
     "text": [
      "the\n"
     ]
    }
   ]
  },
  {
   "cell_type": "code",
   "source": [
    "def whatItSay(index=24):\n",
    "    reverse_index = dict([(value,key) for (key,value) in word_index.items()])\n",
    "    decode_review = \" \".join([reverse_index.get(i-3, \"!\") for i in X_train[index]])\n",
    "    print(decode_review)\n",
    "    print(Y_train[index])\n",
    "    return decode_review\n",
    "\n",
    "decoded_review = whatItSay()"
   ],
   "metadata": {
    "trusted": true,
    "colab": {
     "base_uri": "https://localhost:8080/"
    },
    "id": "sRQW44P_yoQ2",
    "executionInfo": {
     "status": "ok",
     "timestamp": 1699781031391,
     "user_tz": -60,
     "elapsed": 297,
     "user": {
      "displayName": "Bassem Ben Hamed",
      "userId": "05085141965811481856"
     }
    },
    "outputId": "4f27ce18-107d-4fc8-b845-d5f65b8566b3",
    "ExecuteTime": {
     "end_time": "2024-04-29T20:42:03.857965Z",
     "start_time": "2024-04-29T20:42:03.852067Z"
    }
   },
   "execution_count": 18,
   "outputs": [
    {
     "name": "stdout",
     "output_type": "stream",
     "text": [
      "! this movie was extremely funny i would like to own this for my vintage collection of 1970s movie must see again list i know this cast of characters they are people that i have met over the years and that prompt me to search out this comedy unfortunately this was never put to dvd or vhs redd foxx always a clown of comedy pearl baily a great match as his wife witty and sassy norman a son with a secret not sure if he will have a future if it is out dennis dugan crazy funny man miss dobson hooker with a heart and little conscience love lust strange family ties this movie qualifies for a come back encore performance situation comedy with a mix of events as this could and should find its way as a remake i do think finding cast would be extremely difficult maybe impossible except jerry seinfeld playing dennis dugan role this earmarks a couple of seinfeld episodes that also brought me back to norman is that you keeping them in the closest was surely impossible as impossible to reform pretend hooker girl friend and infidelity of a parent this movie was a wild ride advise of a cabbie remind me of episode kramer takes advice of his caddie over his lawyer episode from seinfeld the parents have there jaw dropping moment fun over fun it is screaming bring me back\n",
      "1\n"
     ]
    }
   ]
  },
  {
   "cell_type": "code",
   "source": [
    "decoded_review = whatItSay(5)"
   ],
   "metadata": {
    "trusted": true,
    "colab": {
     "base_uri": "https://localhost:8080/"
    },
    "id": "D56ca4OSyoQ3",
    "executionInfo": {
     "status": "ok",
     "timestamp": 1699781039590,
     "user_tz": -60,
     "elapsed": 625,
     "user": {
      "displayName": "Bassem Ben Hamed",
      "userId": "05085141965811481856"
     }
    },
    "outputId": "88c010a3-3612-4b88-dcb8-fa876f5cbf70",
    "ExecuteTime": {
     "end_time": "2024-04-29T20:42:03.945376Z",
     "start_time": "2024-04-29T20:42:03.870119Z"
    }
   },
   "execution_count": 19,
   "outputs": [
    {
     "name": "stdout",
     "output_type": "stream",
     "text": [
      "! quite possibly how francis veber one of the best comedy directors in the world at least when sticking to his native france managed to turn in a film so completely unwatchable is beyond the reason of mere mortal man to discern it's not just that the characters are so unlikeable or that the film is so utterly devoid of even the lowest form of wit it's genuinely physically painful to watch such an endless parade of inept writing acting and film making that you cannot believe this is the work of experienced and talented filmmakers for once the near eternity spent in the cutting room and on the shelf before its blink and you'll miss it theatrical release tells the whole story what were they thinking\n",
      "0\n"
     ]
    }
   ]
  },
  {
   "cell_type": "markdown",
   "source": [
    "## Preprocess"
   ],
   "metadata": {
    "id": "kBcHcQIbyoQ3"
   }
  },
  {
   "cell_type": "code",
   "source": [
    "num_words = 15000\n",
    "(X_train,Y_train),(X_test,Y_test) = imdb.load_data(num_words=num_words)"
   ],
   "metadata": {
    "trusted": true,
    "id": "vTtjI1yeyoQ3",
    "ExecuteTime": {
     "end_time": "2024-04-29T20:42:05.565424Z",
     "start_time": "2024-04-29T20:42:03.874868Z"
    }
   },
   "execution_count": 20,
   "outputs": []
  },
  {
   "cell_type": "code",
   "source": [
    "maxlen=130\n",
    "X_train = pad_sequences(X_train, maxlen=maxlen)\n",
    "X_test = pad_sequences(X_test, maxlen=maxlen)"
   ],
   "metadata": {
    "trusted": true,
    "id": "4Nv6N6TcyoQ4",
    "ExecuteTime": {
     "end_time": "2024-04-29T20:42:05.799553Z",
     "start_time": "2024-04-29T20:42:05.566729Z"
    }
   },
   "execution_count": 21,
   "outputs": []
  },
  {
   "cell_type": "code",
   "source": [
    "print(\"X train shape: \",X_train.shape)"
   ],
   "metadata": {
    "trusted": true,
    "colab": {
     "base_uri": "https://localhost:8080/"
    },
    "id": "zrpxsdqByoQ4",
    "executionInfo": {
     "status": "ok",
     "timestamp": 1699781076760,
     "user_tz": -60,
     "elapsed": 432,
     "user": {
      "displayName": "Bassem Ben Hamed",
      "userId": "05085141965811481856"
     }
    },
    "outputId": "abfb7658-4006-4217-efc7-90649a59937b",
    "ExecuteTime": {
     "end_time": "2024-04-29T20:42:05.803679Z",
     "start_time": "2024-04-29T20:42:05.801536Z"
    }
   },
   "execution_count": 22,
   "outputs": [
    {
     "name": "stdout",
     "output_type": "stream",
     "text": [
      "X train shape:  (25000, 130)\n"
     ]
    }
   ]
  },
  {
   "cell_type": "code",
   "source": [
    "print(X_train[5])"
   ],
   "metadata": {
    "trusted": true,
    "colab": {
     "base_uri": "https://localhost:8080/"
    },
    "id": "2dP0by9kyoQ4",
    "executionInfo": {
     "status": "ok",
     "timestamp": 1699781078858,
     "user_tz": -60,
     "elapsed": 456,
     "user": {
      "displayName": "Bassem Ben Hamed",
      "userId": "05085141965811481856"
     }
    },
    "outputId": "e892babd-dac9-46b1-d91e-ba6cd23e2f77",
    "ExecuteTime": {
     "end_time": "2024-04-29T20:42:05.807595Z",
     "start_time": "2024-04-29T20:42:05.803855Z"
    }
   },
   "execution_count": 23,
   "outputs": [
    {
     "name": "stdout",
     "output_type": "stream",
     "text": [
      "[   0    0    0    0    0    0    0    0    0    0    0    0    0    0\n",
      "    0    0    0    0    0    0    0    0    0    0    0    0    0    0\n",
      "    0    0    0    0    0    0    0    0    0    0    0    0    0    0\n",
      "    0    0    0    0    0    0    0    0    0    0    0    0    0    0\n",
      "    0    0    0    0    0    0    0    0    0    0    0    0    0    0\n",
      "    0    0    0    0    0    0    0    0    0    0    0    0    0    0\n",
      "    0    0    0    1  778  128   74   12  630  163   15    4 1766 7982\n",
      " 1051    2   32   85  156   45   40  148  139  121  664  665   10   10\n",
      " 1361  173    4  749    2   16 3804    8    4  226   65   12   43  127\n",
      "   24    2   10   10]\n"
     ]
    }
   ]
  },
  {
   "cell_type": "code",
   "source": [
    "for i in X_train[0:10]:\n",
    "    print(len(i))"
   ],
   "metadata": {
    "trusted": true,
    "colab": {
     "base_uri": "https://localhost:8080/"
    },
    "id": "0wBPUDtkyoQ5",
    "executionInfo": {
     "status": "ok",
     "timestamp": 1699781082723,
     "user_tz": -60,
     "elapsed": 299,
     "user": {
      "displayName": "Bassem Ben Hamed",
      "userId": "05085141965811481856"
     }
    },
    "outputId": "a6ac4ca1-7a6b-456a-d2e3-d26810392da2",
    "ExecuteTime": {
     "end_time": "2024-04-29T20:42:05.809296Z",
     "start_time": "2024-04-29T20:42:05.806343Z"
    }
   },
   "execution_count": 24,
   "outputs": [
    {
     "name": "stdout",
     "output_type": "stream",
     "text": [
      "130\n",
      "130\n",
      "130\n",
      "130\n",
      "130\n",
      "130\n",
      "130\n",
      "130\n",
      "130\n",
      "130\n"
     ]
    }
   ]
  },
  {
   "cell_type": "code",
   "source": [
    "decoded_review = whatItSay(5)"
   ],
   "metadata": {
    "trusted": true,
    "colab": {
     "base_uri": "https://localhost:8080/"
    },
    "id": "nTm-eio7yoQ5",
    "executionInfo": {
     "status": "ok",
     "timestamp": 1699781090381,
     "user_tz": -60,
     "elapsed": 377,
     "user": {
      "displayName": "Bassem Ben Hamed",
      "userId": "05085141965811481856"
     }
    },
    "outputId": "2c22abd2-b9ce-43b2-ff0a-c952ed8e1b51",
    "ExecuteTime": {
     "end_time": "2024-04-29T20:42:05.819691Z",
     "start_time": "2024-04-29T20:42:05.816776Z"
    }
   },
   "execution_count": 25,
   "outputs": [
    {
     "name": "stdout",
     "output_type": "stream",
     "text": [
      "! ! ! ! ! ! ! ! ! ! ! ! ! ! ! ! ! ! ! ! ! ! ! ! ! ! ! ! ! ! ! ! ! ! ! ! ! ! ! ! ! ! ! ! ! ! ! ! ! ! ! ! ! ! ! ! ! ! ! ! ! ! ! ! ! ! ! ! ! ! ! ! ! ! ! ! ! ! ! ! ! ! ! ! ! ! ! ! begins better than it ends funny that the russian submarine crew ! all other actors it's like those scenes where documentary shots br br spoiler part the message ! was contrary to the whole story it just does not ! br br\n",
      "0\n"
     ]
    }
   ]
  },
  {
   "cell_type": "markdown",
   "source": [
    "## Construct RNN Model"
   ],
   "metadata": {
    "id": "fgS_mqcgyoQ5"
   }
  },
  {
   "cell_type": "code",
   "source": [
    "rnn = Sequential()\n",
    "\n",
    "rnn.add(Embedding(num_words,32,input_length =len(X_train[0]))) # num_words=15000\n",
    "rnn.add(SimpleRNN(16,input_shape = (num_words,maxlen), return_sequences=False,activation=\"relu\"))\n",
    "rnn.add(Dense(1)) #flatten\n",
    "rnn.add(Activation(\"sigmoid\")) #using sigmoid for binary classification\n",
    "\n",
    "print(rnn.summary())\n",
    "rnn.compile(loss=\"binary_crossentropy\",optimizer=\"rmsprop\",metrics=[\"accuracy\"])\n"
   ],
   "metadata": {
    "trusted": true,
    "colab": {
     "base_uri": "https://localhost:8080/"
    },
    "id": "JtESoPpZyoQ6",
    "executionInfo": {
     "status": "ok",
     "timestamp": 1699781101104,
     "user_tz": -60,
     "elapsed": 662,
     "user": {
      "displayName": "Bassem Ben Hamed",
      "userId": "05085141965811481856"
     }
    },
    "outputId": "e73f8ae4-efed-4dd7-9366-eeb06d5d326c",
    "ExecuteTime": {
     "end_time": "2024-04-29T20:42:06.073188Z",
     "start_time": "2024-04-29T20:42:05.819943Z"
    }
   },
   "execution_count": 26,
   "outputs": [
    {
     "name": "stdout",
     "output_type": "stream",
     "text": [
      "Metal device set to: Apple M2 Pro\n"
     ]
    },
    {
     "name": "stderr",
     "output_type": "stream",
     "text": [
      "2024-04-29 21:42:05.821573: I tensorflow/core/common_runtime/pluggable_device/pluggable_device_factory.cc:305] Could not identify NUMA node of platform GPU ID 0, defaulting to 0. Your kernel may not have been built with NUMA support.\n",
      "2024-04-29 21:42:05.821894: I tensorflow/core/common_runtime/pluggable_device/pluggable_device_factory.cc:271] Created TensorFlow device (/job:localhost/replica:0/task:0/device:GPU:0 with 0 MB memory) -> physical PluggableDevice (device: 0, name: METAL, pci bus id: <undefined>)\n"
     ]
    },
    {
     "name": "stdout",
     "output_type": "stream",
     "text": [
      "Model: \"sequential\"\n",
      "_________________________________________________________________\n",
      " Layer (type)                Output Shape              Param #   \n",
      "=================================================================\n",
      " embedding (Embedding)       (None, 130, 32)           480000    \n",
      "                                                                 \n",
      " simple_rnn (SimpleRNN)      (None, 16)                784       \n",
      "                                                                 \n",
      " dense (Dense)               (None, 1)                 17        \n",
      "                                                                 \n",
      " activation (Activation)     (None, 1)                 0         \n",
      "                                                                 \n",
      "=================================================================\n",
      "Total params: 480,801\n",
      "Trainable params: 480,801\n",
      "Non-trainable params: 0\n",
      "_________________________________________________________________\n",
      "None\n"
     ]
    }
   ]
  },
  {
   "cell_type": "code",
   "source": [
    "history = rnn.fit(X_train,Y_train,validation_data = (X_test,Y_test),epochs = 5,batch_size=128,verbose = 1)"
   ],
   "metadata": {
    "trusted": true,
    "colab": {
     "base_uri": "https://localhost:8080/"
    },
    "id": "YQfspopVyoQ6",
    "executionInfo": {
     "status": "ok",
     "timestamp": 1699781169421,
     "user_tz": -60,
     "elapsed": 59483,
     "user": {
      "displayName": "Bassem Ben Hamed",
      "userId": "05085141965811481856"
     }
    },
    "outputId": "0ac95e15-bc43-484a-a189-accd1787715a",
    "ExecuteTime": {
     "end_time": "2024-04-30T02:44:16.782442Z",
     "start_time": "2024-04-29T20:42:06.070082Z"
    }
   },
   "execution_count": 27,
   "outputs": [
    {
     "name": "stdout",
     "output_type": "stream",
     "text": [
      "Epoch 1/5\n"
     ]
    },
    {
     "name": "stderr",
     "output_type": "stream",
     "text": [
      "2024-04-29 21:42:06.090288: W tensorflow/core/platform/profile_utils/cpu_utils.cc:128] Failed to get CPU frequency: 0 Hz\n",
      "2024-04-29 21:42:06.345434: I tensorflow/core/grappler/optimizers/custom_graph_optimizer_registry.cc:113] Plugin optimizer for device_type GPU is enabled.\n",
      "loc(\"mps_select\"(\"(mpsFileLoc): /AppleInternal/Library/BuildRoots/495c257e-668e-11ee-93ce-926038f30c31/Library/Caches/com.apple.xbs/Sources/MetalPerformanceShadersGraph/mpsgraph/MetalPerformanceShadersGraph/Core/Files/MPSGraphUtilities.mm\":294:0)): error: 'anec.gain_offset_control' op result #0 must be 4D/5D memref of 16-bit float or 8-bit signed integer or 8-bit unsigned integer values, but got 'memref<1x128x1x1xi1>'\n",
      "loc(\"mps_select\"(\"(mpsFileLoc): /AppleInternal/Library/BuildRoots/495c257e-668e-11ee-93ce-926038f30c31/Library/Caches/com.apple.xbs/Sources/MetalPerformanceShadersGraph/mpsgraph/MetalPerformanceShadersGraph/Core/Files/MPSGraphUtilities.mm\":294:0)): error: 'anec.gain_offset_control' op result #0 must be 4D/5D memref of 16-bit float or 8-bit signed integer or 8-bit unsigned integer values, but got 'memref<1x128x1x1xi1>'\n",
      "loc(\"mps_select\"(\"(mpsFileLoc): /AppleInternal/Library/BuildRoots/495c257e-668e-11ee-93ce-926038f30c31/Library/Caches/com.apple.xbs/Sources/MetalPerformanceShadersGraph/mpsgraph/MetalPerformanceShadersGraph/Core/Files/MPSGraphUtilities.mm\":294:0)): error: 'anec.gain_offset_control' op result #0 must be 4D/5D memref of 16-bit float or 8-bit signed integer or 8-bit unsigned integer values, but got 'memref<1x128x1x1xi1>'\n",
      "loc(\"mps_select\"(\"(mpsFileLoc): /AppleInternal/Library/BuildRoots/495c257e-668e-11ee-93ce-926038f30c31/Library/Caches/com.apple.xbs/Sources/MetalPerformanceShadersGraph/mpsgraph/MetalPerformanceShadersGraph/Core/Files/MPSGraphUtilities.mm\":294:0)): error: 'anec.gain_offset_control' op result #0 must be 4D/5D memref of 16-bit float or 8-bit signed integer or 8-bit unsigned integer values, but got 'memref<1x128x1x1xi1>'\n",
      "loc(\"mps_select\"(\"(mpsFileLoc): /AppleInternal/Library/BuildRoots/495c257e-668e-11ee-93ce-926038f30c31/Library/Caches/com.apple.xbs/Sources/MetalPerformanceShadersGraph/mpsgraph/MetalPerformanceShadersGraph/Core/Files/MPSGraphUtilities.mm\":294:0)): error: 'anec.gain_offset_control' op result #0 must be 4D/5D memref of 16-bit float or 8-bit signed integer or 8-bit unsigned integer values, but got 'memref<1x128x1x1xi1>'\n"
     ]
    },
    {
     "name": "stdout",
     "output_type": "stream",
     "text": [
      "195/196 [============================>.] - ETA: 21s - loss: 0.5728 - accuracy: 0.7159"
     ]
    },
    {
     "name": "stderr",
     "output_type": "stream",
     "text": [
      "loc(\"mps_select\"(\"(mpsFileLoc): /AppleInternal/Library/BuildRoots/495c257e-668e-11ee-93ce-926038f30c31/Library/Caches/com.apple.xbs/Sources/MetalPerformanceShadersGraph/mpsgraph/MetalPerformanceShadersGraph/Core/Files/MPSGraphUtilities.mm\":294:0)): error: 'anec.gain_offset_control' op result #0 must be 4D/5D memref of 16-bit float or 8-bit signed integer or 8-bit unsigned integer values, but got 'memref<1x40x1x1xi1>'\n",
      "loc(\"mps_select\"(\"(mpsFileLoc): /AppleInternal/Library/BuildRoots/495c257e-668e-11ee-93ce-926038f30c31/Library/Caches/com.apple.xbs/Sources/MetalPerformanceShadersGraph/mpsgraph/MetalPerformanceShadersGraph/Core/Files/MPSGraphUtilities.mm\":294:0)): error: 'anec.gain_offset_control' op result #0 must be 4D/5D memref of 16-bit float or 8-bit signed integer or 8-bit unsigned integer values, but got 'memref<1x40x1x1xi1>'\n",
      "loc(\"mps_select\"(\"(mpsFileLoc): /AppleInternal/Library/BuildRoots/495c257e-668e-11ee-93ce-926038f30c31/Library/Caches/com.apple.xbs/Sources/MetalPerformanceShadersGraph/mpsgraph/MetalPerformanceShadersGraph/Core/Files/MPSGraphUtilities.mm\":294:0)): error: 'anec.gain_offset_control' op result #0 must be 4D/5D memref of 16-bit float or 8-bit signed integer or 8-bit unsigned integer values, but got 'memref<1x40x1x1xi1>'\n",
      "loc(\"mps_select\"(\"(mpsFileLoc): /AppleInternal/Library/BuildRoots/495c257e-668e-11ee-93ce-926038f30c31/Library/Caches/com.apple.xbs/Sources/MetalPerformanceShadersGraph/mpsgraph/MetalPerformanceShadersGraph/Core/Files/MPSGraphUtilities.mm\":294:0)): error: 'anec.gain_offset_control' op result #0 must be 4D/5D memref of 16-bit float or 8-bit signed integer or 8-bit unsigned integer values, but got 'memref<1x40x1x1xi1>'\n",
      "loc(\"mps_select\"(\"(mpsFileLoc): /AppleInternal/Library/BuildRoots/495c257e-668e-11ee-93ce-926038f30c31/Library/Caches/com.apple.xbs/Sources/MetalPerformanceShadersGraph/mpsgraph/MetalPerformanceShadersGraph/Core/Files/MPSGraphUtilities.mm\":294:0)): error: 'anec.gain_offset_control' op result #0 must be 4D/5D memref of 16-bit float or 8-bit signed integer or 8-bit unsigned integer values, but got 'memref<1x40x1x1xi1>'\n"
     ]
    },
    {
     "name": "stdout",
     "output_type": "stream",
     "text": [
      "196/196 [==============================] - ETA: 0s - loss: 0.5728 - accuracy: 0.7158 "
     ]
    },
    {
     "name": "stderr",
     "output_type": "stream",
     "text": [
      "2024-04-29 22:50:38.399288: I tensorflow/core/grappler/optimizers/custom_graph_optimizer_registry.cc:113] Plugin optimizer for device_type GPU is enabled.\n",
      "loc(\"mps_select\"(\"(mpsFileLoc): /AppleInternal/Library/BuildRoots/495c257e-668e-11ee-93ce-926038f30c31/Library/Caches/com.apple.xbs/Sources/MetalPerformanceShadersGraph/mpsgraph/MetalPerformanceShadersGraph/Core/Files/MPSGraphUtilities.mm\":294:0)): error: 'anec.gain_offset_control' op result #0 must be 4D/5D memref of 16-bit float or 8-bit signed integer or 8-bit unsigned integer values, but got 'memref<1x128x1x1xi1>'\n",
      "loc(\"mps_select\"(\"(mpsFileLoc): /AppleInternal/Library/BuildRoots/495c257e-668e-11ee-93ce-926038f30c31/Library/Caches/com.apple.xbs/Sources/MetalPerformanceShadersGraph/mpsgraph/MetalPerformanceShadersGraph/Core/Files/MPSGraphUtilities.mm\":294:0)): error: 'anec.gain_offset_control' op result #0 must be 4D/5D memref of 16-bit float or 8-bit signed integer or 8-bit unsigned integer values, but got 'memref<1x128x1x1xi1>'\n"
     ]
    },
    {
     "name": "stdout",
     "output_type": "stream",
     "text": [
      "196/196 [==============================] - 4192s 21s/step - loss: 0.5728 - accuracy: 0.7158 - val_loss: 0.5415 - val_accuracy: 0.7665\n",
      "Epoch 2/5\n"
     ]
    },
    {
     "name": "stderr",
     "output_type": "stream",
     "text": [
      "loc(\"mps_select\"(\"(mpsFileLoc): /AppleInternal/Library/BuildRoots/495c257e-668e-11ee-93ce-926038f30c31/Library/Caches/com.apple.xbs/Sources/MetalPerformanceShadersGraph/mpsgraph/MetalPerformanceShadersGraph/Core/Files/MPSGraphUtilities.mm\":294:0)): error: 'anec.gain_offset_control' op result #0 must be 4D/5D memref of 16-bit float or 8-bit signed integer or 8-bit unsigned integer values, but got 'memref<1x40x1x1xi1>'\n",
      "loc(\"mps_select\"(\"(mpsFileLoc): /AppleInternal/Library/BuildRoots/495c257e-668e-11ee-93ce-926038f30c31/Library/Caches/com.apple.xbs/Sources/MetalPerformanceShadersGraph/mpsgraph/MetalPerformanceShadersGraph/Core/Files/MPSGraphUtilities.mm\":294:0)): error: 'anec.gain_offset_control' op result #0 must be 4D/5D memref of 16-bit float or 8-bit signed integer or 8-bit unsigned integer values, but got 'memref<1x40x1x1xi1>'\n"
     ]
    },
    {
     "name": "stdout",
     "output_type": "stream",
     "text": [
      "196/196 [==============================] - 2557s 13s/step - loss: 0.3377 - accuracy: 0.8605 - val_loss: 0.4394 - val_accuracy: 0.8002\n",
      "Epoch 3/5\n",
      "196/196 [==============================] - 3536s 18s/step - loss: 0.2623 - accuracy: 0.8926 - val_loss: 0.3753 - val_accuracy: 0.8422\n",
      "Epoch 4/5\n",
      "196/196 [==============================] - 5938s 30s/step - loss: 0.2247 - accuracy: 0.9113 - val_loss: 0.3361 - val_accuracy: 0.8575\n",
      "Epoch 5/5\n",
      "196/196 [==============================] - 5508s 28s/step - loss: 0.1934 - accuracy: 0.9264 - val_loss: 0.3665 - val_accuracy: 0.8580\n"
     ]
    }
   ]
  },
  {
   "cell_type": "code",
   "source": [
    "score = rnn.evaluate(X_test,Y_test)"
   ],
   "metadata": {
    "trusted": true,
    "colab": {
     "base_uri": "https://localhost:8080/"
    },
    "id": "0b9eL8DEyoQ6",
    "executionInfo": {
     "status": "ok",
     "timestamp": 1699781197113,
     "user_tz": -60,
     "elapsed": 8392,
     "user": {
      "displayName": "Bassem Ben Hamed",
      "userId": "05085141965811481856"
     }
    },
    "outputId": "49e662c4-dd68-44f6-d50f-e46a9e6169b6",
    "ExecuteTime": {
     "end_time": "2024-04-30T03:13:37.034149Z",
     "start_time": "2024-04-30T02:44:16.782883Z"
    }
   },
   "execution_count": 28,
   "outputs": [
    {
     "name": "stdout",
     "output_type": "stream",
     "text": [
      "  1/782 [..............................] - ETA: 5:56 - loss: 0.2850 - accuracy: 0.9062"
     ]
    },
    {
     "name": "stderr",
     "output_type": "stream",
     "text": [
      "loc(\"mps_select\"(\"(mpsFileLoc): /AppleInternal/Library/BuildRoots/495c257e-668e-11ee-93ce-926038f30c31/Library/Caches/com.apple.xbs/Sources/MetalPerformanceShadersGraph/mpsgraph/MetalPerformanceShadersGraph/Core/Files/MPSGraphUtilities.mm\":294:0)): error: 'anec.gain_offset_control' op result #0 must be 4D/5D memref of 16-bit float or 8-bit signed integer or 8-bit unsigned integer values, but got 'memref<1x32x1x1xi1>'\n",
      "loc(\"mps_select\"(\"(mpsFileLoc): /AppleInternal/Library/BuildRoots/495c257e-668e-11ee-93ce-926038f30c31/Library/Caches/com.apple.xbs/Sources/MetalPerformanceShadersGraph/mpsgraph/MetalPerformanceShadersGraph/Core/Files/MPSGraphUtilities.mm\":294:0)): error: 'anec.gain_offset_control' op result #0 must be 4D/5D memref of 16-bit float or 8-bit signed integer or 8-bit unsigned integer values, but got 'memref<1x32x1x1xi1>'\n"
     ]
    },
    {
     "name": "stdout",
     "output_type": "stream",
     "text": [
      "782/782 [==============================] - 1760s 2s/step - loss: 0.3665 - accuracy: 0.8580\n"
     ]
    },
    {
     "name": "stderr",
     "output_type": "stream",
     "text": [
      "loc(\"mps_select\"(\"(mpsFileLoc): /AppleInternal/Library/BuildRoots/495c257e-668e-11ee-93ce-926038f30c31/Library/Caches/com.apple.xbs/Sources/MetalPerformanceShadersGraph/mpsgraph/MetalPerformanceShadersGraph/Core/Files/MPSGraphUtilities.mm\":294:0)): error: 'anec.gain_offset_control' op result #0 must be 4D/5D memref of 16-bit float or 8-bit signed integer or 8-bit unsigned integer values, but got 'memref<1x8x1x1xi1>'\n",
      "loc(\"mps_select\"(\"(mpsFileLoc): /AppleInternal/Library/BuildRoots/495c257e-668e-11ee-93ce-926038f30c31/Library/Caches/com.apple.xbs/Sources/MetalPerformanceShadersGraph/mpsgraph/MetalPerformanceShadersGraph/Core/Files/MPSGraphUtilities.mm\":294:0)): error: 'anec.gain_offset_control' op result #0 must be 4D/5D memref of 16-bit float or 8-bit signed integer or 8-bit unsigned integer values, but got 'memref<1x8x1x1xi1>'\n"
     ]
    }
   ]
  },
  {
   "cell_type": "code",
   "source": [
    "print(\"accuracy:\", score[1]*100)"
   ],
   "metadata": {
    "trusted": true,
    "colab": {
     "base_uri": "https://localhost:8080/"
    },
    "id": "y8rIfgEfyoQ7",
    "executionInfo": {
     "status": "ok",
     "timestamp": 1699781202511,
     "user_tz": -60,
     "elapsed": 392,
     "user": {
      "displayName": "Bassem Ben Hamed",
      "userId": "05085141965811481856"
     }
    },
    "outputId": "7ecf1493-64d7-499d-ca80-40416a1ca72b",
    "ExecuteTime": {
     "end_time": "2024-04-30T03:13:37.036890Z",
     "start_time": "2024-04-30T03:13:37.033179Z"
    }
   },
   "execution_count": 29,
   "outputs": [
    {
     "name": "stdout",
     "output_type": "stream",
     "text": [
      "accuracy: 85.79599857330322\n"
     ]
    }
   ]
  },
  {
   "cell_type": "code",
   "source": [
    "plt.figure()\n",
    "plt.plot(history.history[\"accuracy\"],label=\"Train\");\n",
    "plt.plot(history.history[\"val_accuracy\"],label=\"Test\");\n",
    "plt.title(\"Accuracy\")\n",
    "plt.ylabel(\"Accuracy\")\n",
    "plt.xlabel(\"Epochs\")\n",
    "plt.legend()\n",
    "plt.show();"
   ],
   "metadata": {
    "trusted": true,
    "colab": {
     "base_uri": "https://localhost:8080/",
     "height": 472
    },
    "id": "11OVwvaIyoQ7",
    "executionInfo": {
     "status": "ok",
     "timestamp": 1699781206359,
     "user_tz": -60,
     "elapsed": 1018,
     "user": {
      "displayName": "Bassem Ben Hamed",
      "userId": "05085141965811481856"
     }
    },
    "outputId": "85ba7948-44ef-4991-84dc-65d44e53c67d",
    "ExecuteTime": {
     "end_time": "2024-04-30T03:13:37.121866Z",
     "start_time": "2024-04-30T03:13:37.039730Z"
    }
   },
   "execution_count": 30,
   "outputs": [
    {
     "data": {
      "text/plain": "<Figure size 640x480 with 1 Axes>",
      "image/png": "[encoded data removed]"
     },
     "metadata": {},
     "output_type": "display_data"
    }
   ]
  },
  {
   "cell_type": "code",
   "source": [
    "plt.figure()\n",
    "plt.plot(history.history[\"loss\"],label=\"Train\");\n",
    "plt.plot(history.history[\"val_loss\"],label=\"Test\");\n",
    "plt.title(\"Loss\")\n",
    "plt.ylabel(\"Loss\")\n",
    "plt.xlabel(\"Epochs\")\n",
    "plt.legend()\n",
    "plt.show();"
   ],
   "metadata": {
    "trusted": true,
    "colab": {
     "base_uri": "https://localhost:8080/",
     "height": 472
    },
    "id": "1MplKT8xyoQ7",
    "executionInfo": {
     "status": "ok",
     "timestamp": 1699781210462,
     "user_tz": -60,
     "elapsed": 1075,
     "user": {
      "displayName": "Bassem Ben Hamed",
      "userId": "05085141965811481856"
     }
    },
    "outputId": "88901240-f6e3-43ec-e3de-603214043a6f",
    "ExecuteTime": {
     "end_time": "2024-04-30T03:13:37.195826Z",
     "start_time": "2024-04-30T03:13:37.115897Z"
    }
   },
   "execution_count": 31,
   "outputs": [
    {
     "data": {
      "text/plain": "<Figure size 640x480 with 1 Axes>",
      "image/png": "[encoded data removed]"
     },
     "metadata": {},
     "output_type": "display_data"
    }
   ]
  },
  {
   "cell_type": "code",
   "source": [],
   "metadata": {
    "trusted": true,
    "id": "GZ_ZU2PYyoQ8",
    "ExecuteTime": {
     "end_time": "2024-04-30T03:13:37.198832Z",
     "start_time": "2024-04-30T03:13:37.189921Z"
    }
   },
   "execution_count": 31,
   "outputs": []
  }
 ]
}
