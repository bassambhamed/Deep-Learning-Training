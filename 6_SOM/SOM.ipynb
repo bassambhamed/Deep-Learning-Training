{
 "cells": [
  {
   "cell_type": "markdown",
   "id": "70eeb024",
   "metadata": {
    "id": "70eeb024"
   },
   "source": [
    "## Self Organizing maps (SOM)"
   ]
  },
  {
   "cell_type": "code",
   "execution_count": 1,
   "id": "ff8fb168",
   "metadata": {
    "id": "ff8fb168",
    "executionInfo": {
     "status": "ok",
     "timestamp": 1699808779304,
     "user_tz": -60,
     "elapsed": 401,
     "user": {
      "displayName": "Bassem Ben Hamed",
      "userId": "05085141965811481856"
     }
    }
   },
   "outputs": [],
   "source": [
    "import numpy as np\n",
    "import pandas as pd"
   ]
  },
  {
   "cell_type": "code",
   "source": [
    "# from google.colab import drive\n",
    "# drive.mount('/content/drive')"
   ],
   "metadata": {
    "colab": {
     "base_uri": "https://localhost:8080/"
    },
    "id": "Gxz6mabFf7H_",
    "executionInfo": {
     "status": "ok",
     "timestamp": 1699808809781,
     "user_tz": -60,
     "elapsed": 21998,
     "user": {
      "displayName": "Bassem Ben Hamed",
      "userId": "05085141965811481856"
     }
    },
    "outputId": "e0a17e2f-ed01-4777-83ae-b22efbe6dc0a"
   },
   "id": "Gxz6mabFf7H_",
   "execution_count": 2,
   "outputs": [
    {
     "output_type": "stream",
     "name": "stdout",
     "text": [
      "Mounted at /content/drive\n"
     ]
    }
   ]
  },
  {
   "cell_type": "code",
   "execution_count": 3,
   "id": "22a0d564",
   "metadata": {
    "colab": {
     "base_uri": "https://localhost:8080/"
    },
    "id": "22a0d564",
    "executionInfo": {
     "status": "ok",
     "timestamp": 1699808880280,
     "user_tz": -60,
     "elapsed": 896,
     "user": {
      "displayName": "Bassem Ben Hamed",
      "userId": "05085141965811481856"
     }
    },
    "outputId": "36c95e6d-0bd2-4f96-8302-245df3df250b"
   },
   "outputs": [
    {
     "output_type": "execute_result",
     "data": {
      "text/plain": [
       "(690, 16)"
      ]
     },
     "metadata": {},
     "execution_count": 3
    }
   ],
   "source": [
    "dataset = pd.read_csv('/content/drive/MyDrive/DL ISGI/6_SOM/Credit_Card_Applications.csv')\n",
    "dataset.shape"
   ]
  },
  {
   "cell_type": "code",
   "execution_count": 5,
   "id": "94052cc8",
   "metadata": {
    "colab": {
     "base_uri": "https://localhost:8080/",
     "height": 206
    },
    "id": "94052cc8",
    "executionInfo": {
     "status": "ok",
     "timestamp": 1699808910671,
     "user_tz": -60,
     "elapsed": 339,
     "user": {
      "displayName": "Bassem Ben Hamed",
      "userId": "05085141965811481856"
     }
    },
    "outputId": "af7481d6-e617-4c84-996e-07e8c0cfc3b0"
   },
   "outputs": [
    {
     "output_type": "execute_result",
     "data": {
      "text/plain": [
       "   CustomerID  A1     A2     A3  A4  A5  A6     A7  A8  A9  A10  A11  A12  \\\n",
       "0    15776156   1  22.08  11.46   2   4   4  1.585   0   0    0    1    2   \n",
       "1    15739548   0  22.67   7.00   2   8   4  0.165   0   0    0    0    2   \n",
       "2    15662854   0  29.58   1.75   1   4   4  1.250   0   0    0    1    2   \n",
       "3    15687688   0  21.67  11.50   1   5   3  0.000   1   1   11    1    2   \n",
       "4    15715750   1  20.17   8.17   2   6   4  1.960   1   1   14    0    2   \n",
       "\n",
       "   A13   A14  Class  \n",
       "0  100  1213      0  \n",
       "1  160     1      0  \n",
       "2  280     1      0  \n",
       "3    0     1      1  \n",
       "4   60   159      1  "
      ],
      "text/html": [
       "\n",
       "  <div id=\"df-9a64ca00-dc6b-43ca-a3e8-1b8d16c8a4f0\" class=\"colab-df-container\">\n",
       "    <div>\n",
       "<style scoped>\n",
       "    .dataframe tbody tr th:only-of-type {\n",
       "        vertical-align: middle;\n",
       "    }\n",
       "\n",
       "    .dataframe tbody tr th {\n",
       "        vertical-align: top;\n",
       "    }\n",
       "\n",
       "    .dataframe thead th {\n",
       "        text-align: right;\n",
       "    }\n",
       "</style>\n",
       "<table border=\"1\" class=\"dataframe\">\n",
       "  <thead>\n",
       "    <tr style=\"text-align: right;\">\n",
       "      <th></th>\n",
       "      <th>CustomerID</th>\n",
       "      <th>A1</th>\n",
       "      <th>A2</th>\n",
       "      <th>A3</th>\n",
       "      <th>A4</th>\n",
       "      <th>A5</th>\n",
       "      <th>A6</th>\n",
       "      <th>A7</th>\n",
       "      <th>A8</th>\n",
       "      <th>A9</th>\n",
       "      <th>A10</th>\n",
       "      <th>A11</th>\n",
       "      <th>A12</th>\n",
       "      <th>A13</th>\n",
       "      <th>A14</th>\n",
       "      <th>Class</th>\n",
       "    </tr>\n",
       "  </thead>\n",
       "  <tbody>\n",
       "    <tr>\n",
       "      <th>0</th>\n",
       "      <td>15776156</td>\n",
       "      <td>1</td>\n",
       "      <td>22.08</td>\n",
       "      <td>11.46</td>\n",
       "      <td>2</td>\n",
       "      <td>4</td>\n",
       "      <td>4</td>\n",
       "      <td>1.585</td>\n",
       "      <td>0</td>\n",
       "      <td>0</td>\n",
       "      <td>0</td>\n",
       "      <td>1</td>\n",
       "      <td>2</td>\n",
       "      <td>100</td>\n",
       "      <td>1213</td>\n",
       "      <td>0</td>\n",
       "    </tr>\n",
       "    <tr>\n",
       "      <th>1</th>\n",
       "      <td>15739548</td>\n",
       "      <td>0</td>\n",
       "      <td>22.67</td>\n",
       "      <td>7.00</td>\n",
       "      <td>2</td>\n",
       "      <td>8</td>\n",
       "      <td>4</td>\n",
       "      <td>0.165</td>\n",
       "      <td>0</td>\n",
       "      <td>0</td>\n",
       "      <td>0</td>\n",
       "      <td>0</td>\n",
       "      <td>2</td>\n",
       "      <td>160</td>\n",
       "      <td>1</td>\n",
       "      <td>0</td>\n",
       "    </tr>\n",
       "    <tr>\n",
       "      <th>2</th>\n",
       "      <td>15662854</td>\n",
       "      <td>0</td>\n",
       "      <td>29.58</td>\n",
       "      <td>1.75</td>\n",
       "      <td>1</td>\n",
       "      <td>4</td>\n",
       "      <td>4</td>\n",
       "      <td>1.250</td>\n",
       "      <td>0</td>\n",
       "      <td>0</td>\n",
       "      <td>0</td>\n",
       "      <td>1</td>\n",
       "      <td>2</td>\n",
       "      <td>280</td>\n",
       "      <td>1</td>\n",
       "      <td>0</td>\n",
       "    </tr>\n",
       "    <tr>\n",
       "      <th>3</th>\n",
       "      <td>15687688</td>\n",
       "      <td>0</td>\n",
       "      <td>21.67</td>\n",
       "      <td>11.50</td>\n",
       "      <td>1</td>\n",
       "      <td>5</td>\n",
       "      <td>3</td>\n",
       "      <td>0.000</td>\n",
       "      <td>1</td>\n",
       "      <td>1</td>\n",
       "      <td>11</td>\n",
       "      <td>1</td>\n",
       "      <td>2</td>\n",
       "      <td>0</td>\n",
       "      <td>1</td>\n",
       "      <td>1</td>\n",
       "    </tr>\n",
       "    <tr>\n",
       "      <th>4</th>\n",
       "      <td>15715750</td>\n",
       "      <td>1</td>\n",
       "      <td>20.17</td>\n",
       "      <td>8.17</td>\n",
       "      <td>2</td>\n",
       "      <td>6</td>\n",
       "      <td>4</td>\n",
       "      <td>1.960</td>\n",
       "      <td>1</td>\n",
       "      <td>1</td>\n",
       "      <td>14</td>\n",
       "      <td>0</td>\n",
       "      <td>2</td>\n",
       "      <td>60</td>\n",
       "      <td>159</td>\n",
       "      <td>1</td>\n",
       "    </tr>\n",
       "  </tbody>\n",
       "</table>\n",
       "</div>\n",
       "    <div class=\"colab-df-buttons\">\n",
       "\n",
       "  <div class=\"colab-df-container\">\n",
       "    <button class=\"colab-df-convert\" onclick=\"convertToInteractive('df-9a64ca00-dc6b-43ca-a3e8-1b8d16c8a4f0')\"\n",
       "            title=\"Convert this dataframe to an interactive table.\"\n",
       "            style=\"display:none;\">\n",
       "\n",
       "  <svg xmlns=\"http://www.w3.org/2000/svg\" height=\"24px\" viewBox=\"0 -960 960 960\">\n",
       "    <path d=\"M120-120v-720h720v720H120Zm60-500h600v-160H180v160Zm220 220h160v-160H400v160Zm0 220h160v-160H400v160ZM180-400h160v-160H180v160Zm440 0h160v-160H620v160ZM180-180h160v-160H180v160Zm440 0h160v-160H620v160Z\"/>\n",
       "  </svg>\n",
       "    </button>\n",
       "\n",
       "  <style>\n",
       "    .colab-df-container {\n",
       "      display:flex;\n",
       "      gap: 12px;\n",
       "    }\n",
       "\n",
       "    .colab-df-convert {\n",
       "      background-color: #E8F0FE;\n",
       "      border: none;\n",
       "      border-radius: 50%;\n",
       "      cursor: pointer;\n",
       "      display: none;\n",
       "      fill: #1967D2;\n",
       "      height: 32px;\n",
       "      padding: 0 0 0 0;\n",
       "      width: 32px;\n",
       "    }\n",
       "\n",
       "    .colab-df-convert:hover {\n",
       "      background-color: #E2EBFA;\n",
       "      box-shadow: 0px 1px 2px rgba(60, 64, 67, 0.3), 0px 1px 3px 1px rgba(60, 64, 67, 0.15);\n",
       "      fill: #174EA6;\n",
       "    }\n",
       "\n",
       "    .colab-df-buttons div {\n",
       "      margin-bottom: 4px;\n",
       "    }\n",
       "\n",
       "    [theme=dark] .colab-df-convert {\n",
       "      background-color: #3B4455;\n",
       "      fill: #D2E3FC;\n",
       "    }\n",
       "\n",
       "    [theme=dark] .colab-df-convert:hover {\n",
       "      background-color: #434B5C;\n",
       "      box-shadow: 0px 1px 3px 1px rgba(0, 0, 0, 0.15);\n",
       "      filter: drop-shadow(0px 1px 2px rgba(0, 0, 0, 0.3));\n",
       "      fill: #FFFFFF;\n",
       "    }\n",
       "  </style>\n",
       "\n",
       "    <script>\n",
       "      const buttonEl =\n",
       "        document.querySelector('#df-9a64ca00-dc6b-43ca-a3e8-1b8d16c8a4f0 button.colab-df-convert');\n",
       "      buttonEl.style.display =\n",
       "        google.colab.kernel.accessAllowed ? 'block' : 'none';\n",
       "\n",
       "      async function convertToInteractive(key) {\n",
       "        const element = document.querySelector('#df-9a64ca00-dc6b-43ca-a3e8-1b8d16c8a4f0');\n",
       "        const dataTable =\n",
       "          await google.colab.kernel.invokeFunction('convertToInteractive',\n",
       "                                                    [key], {});\n",
       "        if (!dataTable) return;\n",
       "\n",
       "        const docLinkHtml = 'Like what you see? Visit the ' +\n",
       "          '<a target=\"_blank\" href=https://colab.research.google.com/notebooks/data_table.ipynb>data table notebook</a>'\n",
       "          + ' to learn more about interactive tables.';\n",
       "        element.innerHTML = '';\n",
       "        dataTable['output_type'] = 'display_data';\n",
       "        await google.colab.output.renderOutput(dataTable, element);\n",
       "        const docLink = document.createElement('div');\n",
       "        docLink.innerHTML = docLinkHtml;\n",
       "        element.appendChild(docLink);\n",
       "      }\n",
       "    </script>\n",
       "  </div>\n",
       "\n",
       "\n",
       "<div id=\"df-7bdf5cfe-4935-4af1-98c7-929f685fc139\">\n",
       "  <button class=\"colab-df-quickchart\" onclick=\"quickchart('df-7bdf5cfe-4935-4af1-98c7-929f685fc139')\"\n",
       "            title=\"Suggest charts\"\n",
       "            style=\"display:none;\">\n",
       "\n",
       "<svg xmlns=\"http://www.w3.org/2000/svg\" height=\"24px\"viewBox=\"0 0 24 24\"\n",
       "     width=\"24px\">\n",
       "    <g>\n",
       "        <path d=\"M19 3H5c-1.1 0-2 .9-2 2v14c0 1.1.9 2 2 2h14c1.1 0 2-.9 2-2V5c0-1.1-.9-2-2-2zM9 17H7v-7h2v7zm4 0h-2V7h2v10zm4 0h-2v-4h2v4z\"/>\n",
       "    </g>\n",
       "</svg>\n",
       "  </button>\n",
       "\n",
       "<style>\n",
       "  .colab-df-quickchart {\n",
       "      --bg-color: #E8F0FE;\n",
       "      --fill-color: #1967D2;\n",
       "      --hover-bg-color: #E2EBFA;\n",
       "      --hover-fill-color: #174EA6;\n",
       "      --disabled-fill-color: #AAA;\n",
       "      --disabled-bg-color: #DDD;\n",
       "  }\n",
       "\n",
       "  [theme=dark] .colab-df-quickchart {\n",
       "      --bg-color: #3B4455;\n",
       "      --fill-color: #D2E3FC;\n",
       "      --hover-bg-color: #434B5C;\n",
       "      --hover-fill-color: #FFFFFF;\n",
       "      --disabled-bg-color: #3B4455;\n",
       "      --disabled-fill-color: #666;\n",
       "  }\n",
       "\n",
       "  .colab-df-quickchart {\n",
       "    background-color: var(--bg-color);\n",
       "    border: none;\n",
       "    border-radius: 50%;\n",
       "    cursor: pointer;\n",
       "    display: none;\n",
       "    fill: var(--fill-color);\n",
       "    height: 32px;\n",
       "    padding: 0;\n",
       "    width: 32px;\n",
       "  }\n",
       "\n",
       "  .colab-df-quickchart:hover {\n",
       "    background-color: var(--hover-bg-color);\n",
       "    box-shadow: 0 1px 2px rgba(60, 64, 67, 0.3), 0 1px 3px 1px rgba(60, 64, 67, 0.15);\n",
       "    fill: var(--button-hover-fill-color);\n",
       "  }\n",
       "\n",
       "  .colab-df-quickchart-complete:disabled,\n",
       "  .colab-df-quickchart-complete:disabled:hover {\n",
       "    background-color: var(--disabled-bg-color);\n",
       "    fill: var(--disabled-fill-color);\n",
       "    box-shadow: none;\n",
       "  }\n",
       "\n",
       "  .colab-df-spinner {\n",
       "    border: 2px solid var(--fill-color);\n",
       "    border-color: transparent;\n",
       "    border-bottom-color: var(--fill-color);\n",
       "    animation:\n",
       "      spin 1s steps(1) infinite;\n",
       "  }\n",
       "\n",
       "  @keyframes spin {\n",
       "    0% {\n",
       "      border-color: transparent;\n",
       "      border-bottom-color: var(--fill-color);\n",
       "      border-left-color: var(--fill-color);\n",
       "    }\n",
       "    20% {\n",
       "      border-color: transparent;\n",
       "      border-left-color: var(--fill-color);\n",
       "      border-top-color: var(--fill-color);\n",
       "    }\n",
       "    30% {\n",
       "      border-color: transparent;\n",
       "      border-left-color: var(--fill-color);\n",
       "      border-top-color: var(--fill-color);\n",
       "      border-right-color: var(--fill-color);\n",
       "    }\n",
       "    40% {\n",
       "      border-color: transparent;\n",
       "      border-right-color: var(--fill-color);\n",
       "      border-top-color: var(--fill-color);\n",
       "    }\n",
       "    60% {\n",
       "      border-color: transparent;\n",
       "      border-right-color: var(--fill-color);\n",
       "    }\n",
       "    80% {\n",
       "      border-color: transparent;\n",
       "      border-right-color: var(--fill-color);\n",
       "      border-bottom-color: var(--fill-color);\n",
       "    }\n",
       "    90% {\n",
       "      border-color: transparent;\n",
       "      border-bottom-color: var(--fill-color);\n",
       "    }\n",
       "  }\n",
       "</style>\n",
       "\n",
       "  <script>\n",
       "    async function quickchart(key) {\n",
       "      const quickchartButtonEl =\n",
       "        document.querySelector('#' + key + ' button');\n",
       "      quickchartButtonEl.disabled = true;  // To prevent multiple clicks.\n",
       "      quickchartButtonEl.classList.add('colab-df-spinner');\n",
       "      try {\n",
       "        const charts = await google.colab.kernel.invokeFunction(\n",
       "            'suggestCharts', [key], {});\n",
       "      } catch (error) {\n",
       "        console.error('Error during call to suggestCharts:', error);\n",
       "      }\n",
       "      quickchartButtonEl.classList.remove('colab-df-spinner');\n",
       "      quickchartButtonEl.classList.add('colab-df-quickchart-complete');\n",
       "    }\n",
       "    (() => {\n",
       "      let quickchartButtonEl =\n",
       "        document.querySelector('#df-7bdf5cfe-4935-4af1-98c7-929f685fc139 button');\n",
       "      quickchartButtonEl.style.display =\n",
       "        google.colab.kernel.accessAllowed ? 'block' : 'none';\n",
       "    })();\n",
       "  </script>\n",
       "</div>\n",
       "    </div>\n",
       "  </div>\n"
      ]
     },
     "metadata": {},
     "execution_count": 5
    }
   ],
   "source": [
    "dataset.head()"
   ]
  },
  {
   "cell_type": "code",
   "execution_count": 6,
   "id": "5a46fd0d",
   "metadata": {
    "id": "5a46fd0d",
    "executionInfo": {
     "status": "ok",
     "timestamp": 1699808915868,
     "user_tz": -60,
     "elapsed": 1021,
     "user": {
      "displayName": "Bassem Ben Hamed",
      "userId": "05085141965811481856"
     }
    }
   },
   "outputs": [],
   "source": [
    "X = dataset.iloc[:,:-1].values\n",
    "y = dataset.iloc[:,-1].values"
   ]
  },
  {
   "cell_type": "code",
   "execution_count": 7,
   "id": "d243baf6",
   "metadata": {
    "id": "d243baf6",
    "executionInfo": {
     "status": "ok",
     "timestamp": 1699808918543,
     "user_tz": -60,
     "elapsed": 1244,
     "user": {
      "displayName": "Bassem Ben Hamed",
      "userId": "05085141965811481856"
     }
    }
   },
   "outputs": [],
   "source": [
    "from sklearn.preprocessing import MinMaxScaler\n",
    "sc = MinMaxScaler(feature_range=(0,1))\n",
    "X = sc.fit_transform(X)"
   ]
  },
  {
   "cell_type": "code",
   "execution_count": 8,
   "id": "7b9c1b27",
   "metadata": {
    "colab": {
     "base_uri": "https://localhost:8080/"
    },
    "id": "7b9c1b27",
    "executionInfo": {
     "status": "ok",
     "timestamp": 1699808920067,
     "user_tz": -60,
     "elapsed": 5,
     "user": {
      "displayName": "Bassem Ben Hamed",
      "userId": "05085141965811481856"
     }
    },
    "outputId": "2885cb81-8c21-483b-f153-9a1e08aa6336"
   },
   "outputs": [
    {
     "output_type": "execute_result",
     "data": {
      "text/plain": [
       "(690, 15)"
      ]
     },
     "metadata": {},
     "execution_count": 8
    }
   ],
   "source": [
    "X.shape"
   ]
  },
  {
   "cell_type": "code",
   "execution_count": 9,
   "id": "a00d0f51",
   "metadata": {
    "colab": {
     "base_uri": "https://localhost:8080/"
    },
    "id": "a00d0f51",
    "executionInfo": {
     "status": "ok",
     "timestamp": 1699808932159,
     "user_tz": -60,
     "elapsed": 8125,
     "user": {
      "displayName": "Bassem Ben Hamed",
      "userId": "05085141965811481856"
     }
    },
    "outputId": "1a47cbbb-d6f6-4c32-acd0-d18f41984fcc"
   },
   "outputs": [
    {
     "output_type": "stream",
     "name": "stdout",
     "text": [
      "Collecting minisom\n",
      "  Downloading MiniSom-2.3.1.tar.gz (10 kB)\n",
      "  Preparing metadata (setup.py) ... \u001B[?25l\u001B[?25hdone\n",
      "Building wheels for collected packages: minisom\n",
      "  Building wheel for minisom (setup.py) ... \u001B[?25l\u001B[?25hdone\n",
      "  Created wheel for minisom: filename=MiniSom-2.3.1-py3-none-any.whl size=10589 sha256=0c195e38b61908fd66711f8d25b8699625a8224d9235895993551da37bd38f2b\n",
      "  Stored in directory: /root/.cache/pip/wheels/c7/92/d2/33bbda5f86fd8830510b16aa98c8dd420129b5cb24248fd6db\n",
      "Successfully built minisom\n",
      "Installing collected packages: minisom\n",
      "Successfully installed minisom-2.3.1\n"
     ]
    }
   ],
   "source": [
    "!pip install minisom"
   ]
  },
  {
   "cell_type": "code",
   "execution_count": 10,
   "id": "59e46669",
   "metadata": {
    "id": "59e46669",
    "executionInfo": {
     "status": "ok",
     "timestamp": 1699808936056,
     "user_tz": -60,
     "elapsed": 3,
     "user": {
      "displayName": "Bassem Ben Hamed",
      "userId": "05085141965811481856"
     }
    }
   },
   "outputs": [],
   "source": [
    "from minisom import MiniSom"
   ]
  },
  {
   "cell_type": "code",
   "execution_count": 11,
   "id": "2bc5f1bb",
   "metadata": {
    "id": "2bc5f1bb",
    "executionInfo": {
     "status": "ok",
     "timestamp": 1699808937453,
     "user_tz": -60,
     "elapsed": 3,
     "user": {
      "displayName": "Bassem Ben Hamed",
      "userId": "05085141965811481856"
     }
    }
   },
   "outputs": [],
   "source": [
    "# Training the SOM\n",
    "from minisom import MiniSom\n",
    "som = MiniSom(x = 10, y = 10, input_len = 15)\n",
    "som.random_weights_init(X)\n",
    "som.train_random(data = X, num_iteration = 100)"
   ]
  },
  {
   "cell_type": "code",
   "execution_count": 12,
   "id": "cfefec98",
   "metadata": {
    "colab": {
     "base_uri": "https://localhost:8080/",
     "height": 435
    },
    "id": "cfefec98",
    "executionInfo": {
     "status": "ok",
     "timestamp": 1699808946352,
     "user_tz": -60,
     "elapsed": 4764,
     "user": {
      "displayName": "Bassem Ben Hamed",
      "userId": "05085141965811481856"
     }
    },
    "outputId": "02643d23-dd22-4efe-b30f-8a6f3dbb1cfd"
   },
   "outputs": [
    {
     "output_type": "display_data",
     "data": {
      "text/plain": [
       "<Figure size 640x480 with 2 Axes>"
      ],
      "image/png": "[encoded data removed]"
     },
     "metadata": {}
    }
   ],
   "source": [
    "# Visualizing the results\n",
    "from pylab import bone, pcolor, colorbar, plot, show\n",
    "bone() # initiliser le tableau avec les 100 output nodes\n",
    "pcolor(som.distance_map().T)\n",
    "colorbar()\n",
    "markers = ['o', 's'] # o : cercle, s : carre\n",
    "colors = ['r', 'g'] # r : red, g : green\n",
    "# cecle rouge : class 0 (rejeté)\n",
    "# carre vert : class 1 (accordé)\n",
    "for i, x in enumerate(X):\n",
    "    w = som.winner(x)\n",
    "    plot(w[0] + 0.5,\n",
    "         w[1] + 0.5,\n",
    "         markers[y[i]],\n",
    "         markeredgecolor = colors[y[i]],\n",
    "         markerfacecolor = 'None',\n",
    "         markersize = 10,\n",
    "         markeredgewidth = 2)\n",
    "show()"
   ]
  },
  {
   "cell_type": "code",
   "execution_count": 13,
   "id": "37edea87",
   "metadata": {
    "id": "37edea87",
    "executionInfo": {
     "status": "ok",
     "timestamp": 1699808975665,
     "user_tz": -60,
     "elapsed": 410,
     "user": {
      "displayName": "Bassem Ben Hamed",
      "userId": "05085141965811481856"
     }
    }
   },
   "outputs": [],
   "source": [
    "# finding the frauds\n",
    "mappings = som.win_map(X)"
   ]
  },
  {
   "cell_type": "code",
   "execution_count": 14,
   "id": "e30c2ec5",
   "metadata": {
    "colab": {
     "base_uri": "https://localhost:8080/"
    },
    "id": "e30c2ec5",
    "executionInfo": {
     "status": "ok",
     "timestamp": 1699808985291,
     "user_tz": -60,
     "elapsed": 347,
     "user": {
      "displayName": "Bassem Ben Hamed",
      "userId": "05085141965811481856"
     }
    },
    "outputId": "a328cab8-c525-49ef-8145-96e84fdf319f"
   },
   "outputs": [
    {
     "output_type": "execute_result",
     "data": {
      "text/plain": [
       "[array([1.77504415e-01, 0.00000000e+00, 1.00300752e-01, 3.75000000e-01,\n",
       "        0.00000000e+00, 1.00000000e+00, 8.75000000e-01, 0.00000000e+00,\n",
       "        0.00000000e+00, 0.00000000e+00, 0.00000000e+00, 1.00000000e+00,\n",
       "        5.00000000e-01, 7.70000000e-02, 3.20000000e-04]),\n",
       " array([0.00980263, 0.        , 0.08646617, 0.00589286, 0.5       ,\n",
       "        0.76923077, 0.375     , 0.00140351, 0.        , 0.        ,\n",
       "        0.        , 1.        , 0.5       , 0.19      , 0.        ]),\n",
       " array([0.38617061, 0.        , 0.2406015 , 0.02375   , 0.5       ,\n",
       "        0.61538462, 0.375     , 0.00877193, 0.        , 0.        ,\n",
       "        0.        , 1.        , 0.5       , 0.15      , 0.        ]),\n",
       " array([0.1515683 , 0.        , 0.13789474, 0.04464286, 0.5       ,\n",
       "        0.76923077, 0.375     , 0.00877193, 0.        , 0.        ,\n",
       "        0.        , 1.        , 0.5       , 0.06      , 0.00809   ]),\n",
       " array([3.96453756e-01, 0.00000000e+00, 1.66616541e-01, 1.60714286e-01,\n",
       "        5.00000000e-01, 6.15384615e-01, 3.75000000e-01, 3.50877193e-02,\n",
       "        0.00000000e+00, 0.00000000e+00, 0.00000000e+00, 1.00000000e+00,\n",
       "        5.00000000e-01, 1.80000000e-01, 6.00000000e-05]),\n",
       " array([0.00882957, 0.        , 0.14661654, 0.05357143, 0.5       ,\n",
       "        0.61538462, 0.375     , 0.03070175, 0.        , 0.        ,\n",
       "        0.        , 1.        , 0.5       , 0.08      , 0.        ]),\n",
       " array([0.48820922, 0.        , 0.29203008, 0.08035714, 0.        ,\n",
       "        0.92307692, 0.375     , 0.12280702, 0.        , 0.        ,\n",
       "        0.        , 1.        , 0.5       , 0.1       , 0.00141   ]),\n",
       " array([2.92465032e-01, 0.00000000e+00, 2.09323308e-01, 7.28571429e-02,\n",
       "        5.00000000e-01, 6.15384615e-01, 3.75000000e-01, 8.77192982e-03,\n",
       "        0.00000000e+00, 0.00000000e+00, 0.00000000e+00, 1.00000000e+00,\n",
       "        5.00000000e-01, 9.00000000e-02, 5.00000000e-04])]"
      ]
     },
     "metadata": {},
     "execution_count": 14
    }
   ],
   "source": [
    "mappings[(6,4)]"
   ]
  },
  {
   "cell_type": "code",
   "execution_count": 15,
   "id": "ff67d804",
   "metadata": {
    "colab": {
     "base_uri": "https://localhost:8080/"
    },
    "id": "ff67d804",
    "executionInfo": {
     "status": "ok",
     "timestamp": 1699809000671,
     "user_tz": -60,
     "elapsed": 335,
     "user": {
      "displayName": "Bassem Ben Hamed",
      "userId": "05085141965811481856"
     }
    },
    "outputId": "bd8719e2-37ae-41a9-c907-31f004944577"
   },
   "outputs": [
    {
     "output_type": "execute_result",
     "data": {
      "text/plain": [
       "list"
      ]
     },
     "metadata": {},
     "execution_count": 15
    }
   ],
   "source": [
    "type(mappings[(6,4)])"
   ]
  },
  {
   "cell_type": "code",
   "execution_count": 16,
   "id": "33900375",
   "metadata": {
    "id": "33900375",
    "executionInfo": {
     "status": "ok",
     "timestamp": 1699809011710,
     "user_tz": -60,
     "elapsed": 347,
     "user": {
      "displayName": "Bassem Ben Hamed",
      "userId": "05085141965811481856"
     }
    }
   },
   "outputs": [],
   "source": [
    "frauds = np.array(mappings[(6,4)])\n",
    "frauds = sc.inverse_transform(frauds)"
   ]
  },
  {
   "cell_type": "code",
   "execution_count": 17,
   "id": "4aca2c75",
   "metadata": {
    "colab": {
     "base_uri": "https://localhost:8080/"
    },
    "id": "4aca2c75",
    "executionInfo": {
     "status": "ok",
     "timestamp": 1699809014070,
     "user_tz": -60,
     "elapsed": 418,
     "user": {
      "displayName": "Bassem Ben Hamed",
      "userId": "05085141965811481856"
     }
    },
    "outputId": "5eb44d22-5131-478e-8712-427ec185e54f"
   },
   "outputs": [
    {
     "output_type": "execute_result",
     "data": {
      "text/plain": [
       "array([15610042., 15568162., 15662152., 15603565., 15664720., 15567919.,\n",
       "       15687634., 15638751.])"
      ]
     },
     "metadata": {},
     "execution_count": 17
    }
   ],
   "source": [
    "frauds[:,0]"
   ]
  },
  {
   "cell_type": "code",
   "execution_count": 18,
   "id": "791fb9a3",
   "metadata": {
    "id": "791fb9a3",
    "executionInfo": {
     "status": "ok",
     "timestamp": 1699809018979,
     "user_tz": -60,
     "elapsed": 372,
     "user": {
      "displayName": "Bassem Ben Hamed",
      "userId": "05085141965811481856"
     }
    }
   },
   "outputs": [],
   "source": [
    "id_fraudeurs = []\n",
    "for id in frauds[:,0]:\n",
    "    id = int(id)\n",
    "    id_fraudeurs.append(id)"
   ]
  },
  {
   "cell_type": "code",
   "execution_count": 19,
   "id": "601b4bf7",
   "metadata": {
    "colab": {
     "base_uri": "https://localhost:8080/"
    },
    "id": "601b4bf7",
    "executionInfo": {
     "status": "ok",
     "timestamp": 1699809022155,
     "user_tz": -60,
     "elapsed": 452,
     "user": {
      "displayName": "Bassem Ben Hamed",
      "userId": "05085141965811481856"
     }
    },
    "outputId": "04e32a6d-cdce-4fff-fa4a-69a099790d06"
   },
   "outputs": [
    {
     "output_type": "execute_result",
     "data": {
      "text/plain": [
       "[15610042,\n",
       " 15568162,\n",
       " 15662152,\n",
       " 15603565,\n",
       " 15664720,\n",
       " 15567919,\n",
       " 15687634,\n",
       " 15638751]"
      ]
     },
     "metadata": {},
     "execution_count": 19
    }
   ],
   "source": [
    "id_fraudeurs"
   ]
  },
  {
   "cell_type": "code",
   "execution_count": null,
   "id": "1ed290b9",
   "metadata": {
    "id": "1ed290b9"
   },
   "outputs": [],
   "source": []
  }
 ],
 "metadata": {
  "kernelspec": {
   "display_name": "Python 3.9.7 ('base')",
   "language": "python",
   "name": "python397jvsc74a57bd03b3d28beda150a23b2654663fc7b6a7c024622bec4872c2b09c2a988d21c6137"
  },
  "language_info": {
   "codemirror_mode": {
    "name": "ipython",
    "version": 3
   },
   "file_extension": ".py",
   "mimetype": "text/x-python",
   "name": "python",
   "nbconvert_exporter": "python",
   "pygments_lexer": "ipython3",
   "version": "3.9.7"
  },
  "colab": {
   "provenance": []
  }
 },
 "nbformat": 4,
 "nbformat_minor": 5
}
