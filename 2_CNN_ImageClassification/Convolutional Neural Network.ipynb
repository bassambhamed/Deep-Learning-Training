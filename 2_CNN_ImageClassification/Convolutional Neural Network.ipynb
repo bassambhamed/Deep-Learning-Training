{
 "cells": [
  {
   "cell_type": "markdown",
   "id": "896b62f2",
   "metadata": {
    "id": "896b62f2"
   },
   "source": [
    "## Part 1: Building the CNN"
   ]
  },
  {
   "cell_type": "code",
   "source": [
    "# from google.colab import drive\n",
    "# drive.mount('/content/drive')"
   ],
   "metadata": {
    "colab": {
     "base_uri": "https://localhost:8080/"
    },
    "id": "m14Ia9OVbe40",
    "executionInfo": {
     "status": "ok",
     "timestamp": 1700041968238,
     "user_tz": -60,
     "elapsed": 20128,
     "user": {
      "displayName": "Bassem Ben Hamed",
      "userId": "05085141965811481856"
     }
    },
    "outputId": "89b486a8-ad2e-4e71-8d52-465faff0bfa6",
    "ExecuteTime": {
     "end_time": "2024-04-23T10:41:28.903372Z",
     "start_time": "2024-04-23T10:41:28.897492Z"
    }
   },
   "id": "m14Ia9OVbe40",
   "execution_count": 1,
   "outputs": []
  },
  {
   "cell_type": "code",
   "outputs": [
    {
     "data": {
      "text/plain": "'2.9.0'"
     },
     "execution_count": 11,
     "metadata": {},
     "output_type": "execute_result"
    }
   ],
   "source": [
    "import tensorflow as tf\n",
    "tf.__version__"
   ],
   "metadata": {
    "collapsed": false,
    "ExecuteTime": {
     "end_time": "2024-04-23T11:43:09.424589Z",
     "start_time": "2024-04-23T11:43:09.410746Z"
    }
   },
   "id": "634b3663f5f83d4f",
   "execution_count": 11
  },
  {
   "cell_type": "markdown",
   "id": "4d2e4c1f",
   "metadata": {
    "id": "4d2e4c1f"
   },
   "source": [
    "**Importing the Keras libraries**"
   ]
  },
  {
   "cell_type": "code",
   "execution_count": 2,
   "id": "acc67bd4",
   "metadata": {
    "id": "acc67bd4",
    "executionInfo": {
     "status": "ok",
     "timestamp": 1700041974249,
     "user_tz": -60,
     "elapsed": 3950,
     "user": {
      "displayName": "Bassem Ben Hamed",
      "userId": "05085141965811481856"
     }
    },
    "ExecuteTime": {
     "end_time": "2024-04-23T10:42:31.034258Z",
     "start_time": "2024-04-23T10:42:29.398612Z"
    }
   },
   "outputs": [],
   "source": [
    "from tensorflow import keras\n",
    "from tensorflow.keras.models import Sequential\n",
    "from tensorflow.keras.layers import Input, Conv2D, MaxPooling2D, Flatten, Dense, Dropout"
   ]
  },
  {
   "cell_type": "markdown",
   "id": "5509d69f",
   "metadata": {
    "id": "5509d69f"
   },
   "source": [
    "**Initializing the CNN**"
   ]
  },
  {
   "cell_type": "code",
   "execution_count": 3,
   "id": "2c238f33",
   "metadata": {
    "id": "2c238f33",
    "executionInfo": {
     "status": "ok",
     "timestamp": 1700041986366,
     "user_tz": -60,
     "elapsed": 368,
     "user": {
      "displayName": "Bassem Ben Hamed",
      "userId": "05085141965811481856"
     }
    },
    "ExecuteTime": {
     "end_time": "2024-04-23T10:42:41.702991Z",
     "start_time": "2024-04-23T10:42:41.677424Z"
    }
   },
   "outputs": [
    {
     "name": "stdout",
     "output_type": "stream",
     "text": [
      "Metal device set to: Apple M2 Pro\n"
     ]
    },
    {
     "name": "stderr",
     "output_type": "stream",
     "text": [
      "2024-04-23 11:42:41.679413: I tensorflow/core/common_runtime/pluggable_device/pluggable_device_factory.cc:305] Could not identify NUMA node of platform GPU ID 0, defaulting to 0. Your kernel may not have been built with NUMA support.\n",
      "2024-04-23 11:42:41.679931: I tensorflow/core/common_runtime/pluggable_device/pluggable_device_factory.cc:271] Created TensorFlow device (/job:localhost/replica:0/task:0/device:GPU:0 with 0 MB memory) -> physical PluggableDevice (device: 0, name: METAL, pci bus id: <undefined>)\n"
     ]
    }
   ],
   "source": [
    "classifier = Sequential()"
   ]
  },
  {
   "cell_type": "markdown",
   "id": "7247732e",
   "metadata": {
    "id": "7247732e"
   },
   "source": [
    "**Step 1: Convolution**"
   ]
  },
  {
   "cell_type": "code",
   "execution_count": 4,
   "id": "653d407e",
   "metadata": {
    "id": "653d407e",
    "executionInfo": {
     "status": "ok",
     "timestamp": 1700041989652,
     "user_tz": -60,
     "elapsed": 263,
     "user": {
      "displayName": "Bassem Ben Hamed",
      "userId": "05085141965811481856"
     }
    },
    "ExecuteTime": {
     "end_time": "2024-04-23T10:44:35.680705Z",
     "start_time": "2024-04-23T10:44:35.562792Z"
    }
   },
   "outputs": [],
   "source": [
    "classifier.add(Conv2D(32,(3,3), input_shape=(64,64,3),activation = 'relu'))"
   ]
  },
  {
   "cell_type": "markdown",
   "id": "c351535e",
   "metadata": {
    "id": "c351535e"
   },
   "source": [
    "https://www.tensorflow.org/api_docs/python/tf/keras/layers/Conv2D"
   ]
  },
  {
   "cell_type": "markdown",
   "id": "8bdf27a5",
   "metadata": {
    "id": "8bdf27a5"
   },
   "source": [
    "**Step 2: Pooling**"
   ]
  },
  {
   "cell_type": "code",
   "execution_count": 5,
   "id": "a42adda9",
   "metadata": {
    "id": "a42adda9",
    "executionInfo": {
     "status": "ok",
     "timestamp": 1700041991892,
     "user_tz": -60,
     "elapsed": 410,
     "user": {
      "displayName": "Bassem Ben Hamed",
      "userId": "05085141965811481856"
     }
    },
    "ExecuteTime": {
     "end_time": "2024-04-23T10:48:58.941433Z",
     "start_time": "2024-04-23T10:48:58.937507Z"
    }
   },
   "outputs": [],
   "source": [
    "classifier.add(MaxPooling2D(pool_size=(2,2)))"
   ]
  },
  {
   "cell_type": "markdown",
   "id": "91012c84",
   "metadata": {
    "id": "91012c84"
   },
   "source": [
    "**Adding a second convolutional layer**"
   ]
  },
  {
   "cell_type": "code",
   "execution_count": 6,
   "id": "a7309352",
   "metadata": {
    "id": "a7309352",
    "executionInfo": {
     "status": "ok",
     "timestamp": 1700041994017,
     "user_tz": -60,
     "elapsed": 284,
     "user": {
      "displayName": "Bassem Ben Hamed",
      "userId": "05085141965811481856"
     }
    },
    "ExecuteTime": {
     "end_time": "2024-04-23T10:49:16.775552Z",
     "start_time": "2024-04-23T10:49:16.757376Z"
    }
   },
   "outputs": [],
   "source": [
    "classifier.add(Conv2D(32,(3,3),activation = 'relu'))\n",
    "classifier.add(MaxPooling2D(pool_size=(2,2)))"
   ]
  },
  {
   "cell_type": "markdown",
   "id": "90c8a4b4",
   "metadata": {
    "id": "90c8a4b4"
   },
   "source": [
    "**Step 3: Flattening**"
   ]
  },
  {
   "cell_type": "code",
   "execution_count": 7,
   "id": "67d3fec1",
   "metadata": {
    "id": "67d3fec1",
    "executionInfo": {
     "status": "ok",
     "timestamp": 1700041995472,
     "user_tz": -60,
     "elapsed": 370,
     "user": {
      "displayName": "Bassem Ben Hamed",
      "userId": "05085141965811481856"
     }
    },
    "ExecuteTime": {
     "end_time": "2024-04-23T10:49:47.706765Z",
     "start_time": "2024-04-23T10:49:47.693854Z"
    }
   },
   "outputs": [],
   "source": [
    "classifier.add(Flatten())"
   ]
  },
  {
   "cell_type": "markdown",
   "id": "8416997e",
   "metadata": {
    "id": "8416997e"
   },
   "source": [
    "**Step 4: Full connection**"
   ]
  },
  {
   "cell_type": "code",
   "execution_count": 8,
   "id": "3aa0c6d5",
   "metadata": {
    "id": "3aa0c6d5",
    "executionInfo": {
     "status": "ok",
     "timestamp": 1700041997789,
     "user_tz": -60,
     "elapsed": 251,
     "user": {
      "displayName": "Bassem Ben Hamed",
      "userId": "05085141965811481856"
     }
    },
    "ExecuteTime": {
     "end_time": "2024-04-23T10:51:18.012215Z",
     "start_time": "2024-04-23T10:51:17.959915Z"
    }
   },
   "outputs": [],
   "source": [
    "classifier.add(Dense(units= 128, activation = 'relu'))\n",
    "classifier.add(Dense(units=1, activation = 'sigmoid'))"
   ]
  },
  {
   "cell_type": "markdown",
   "id": "fa19893d",
   "metadata": {
    "id": "fa19893d"
   },
   "source": [
    "**Compiling the CNN**"
   ]
  },
  {
   "cell_type": "code",
   "execution_count": 9,
   "id": "e2dcf19d",
   "metadata": {
    "id": "e2dcf19d",
    "executionInfo": {
     "status": "ok",
     "timestamp": 1700042000182,
     "user_tz": -60,
     "elapsed": 333,
     "user": {
      "displayName": "Bassem Ben Hamed",
      "userId": "05085141965811481856"
     }
    },
    "ExecuteTime": {
     "end_time": "2024-04-23T10:59:22.376434Z",
     "start_time": "2024-04-23T10:59:22.363359Z"
    }
   },
   "outputs": [],
   "source": [
    "classifier.compile(optimizer='adam',loss='binary_crossentropy',metrics=['accuracy'])"
   ]
  },
  {
   "cell_type": "code",
   "execution_count": 10,
   "id": "3d8ecb9d",
   "metadata": {
    "colab": {
     "base_uri": "https://localhost:8080/"
    },
    "id": "3d8ecb9d",
    "executionInfo": {
     "status": "ok",
     "timestamp": 1700042003897,
     "user_tz": -60,
     "elapsed": 270,
     "user": {
      "displayName": "Bassem Ben Hamed",
      "userId": "05085141965811481856"
     }
    },
    "outputId": "cd712b34-3b01-48e9-abab-2c6d3ffc8187",
    "ExecuteTime": {
     "end_time": "2024-04-23T10:59:23.750264Z",
     "start_time": "2024-04-23T10:59:23.727757Z"
    }
   },
   "outputs": [
    {
     "name": "stdout",
     "output_type": "stream",
     "text": [
      "Model: \"sequential\"\n",
      "_________________________________________________________________\n",
      " Layer (type)                Output Shape              Param #   \n",
      "=================================================================\n",
      " conv2d (Conv2D)             (None, 62, 62, 32)        896       \n",
      "                                                                 \n",
      " max_pooling2d (MaxPooling2D  (None, 31, 31, 32)       0         \n",
      " )                                                               \n",
      "                                                                 \n",
      " conv2d_1 (Conv2D)           (None, 29, 29, 32)        9248      \n",
      "                                                                 \n",
      " max_pooling2d_1 (MaxPooling  (None, 14, 14, 32)       0         \n",
      " 2D)                                                             \n",
      "                                                                 \n",
      " flatten (Flatten)           (None, 6272)              0         \n",
      "                                                                 \n",
      " dense (Dense)               (None, 128)               802944    \n",
      "                                                                 \n",
      " dense_1 (Dense)             (None, 1)                 129       \n",
      "                                                                 \n",
      "=================================================================\n",
      "Total params: 813,217\n",
      "Trainable params: 813,217\n",
      "Non-trainable params: 0\n",
      "_________________________________________________________________\n"
     ]
    }
   ],
   "source": [
    "classifier.summary()"
   ]
  },
  {
   "cell_type": "markdown",
   "id": "f1df3c78",
   "metadata": {
    "id": "f1df3c78"
   },
   "source": [
    "\n",
    "## Part 2: Fitting the CNN to the images"
   ]
  },
  {
   "cell_type": "markdown",
   "id": "23522abe",
   "metadata": {
    "id": "23522abe"
   },
   "source": [
    "**Data generator and fit to the data**"
   ]
  },
  {
   "cell_type": "code",
   "execution_count": 12,
   "id": "b0f4dcc8",
   "metadata": {
    "id": "b0f4dcc8",
    "executionInfo": {
     "status": "ok",
     "timestamp": 1700042007967,
     "user_tz": -60,
     "elapsed": 379,
     "user": {
      "displayName": "Bassem Ben Hamed",
      "userId": "05085141965811481856"
     }
    },
    "ExecuteTime": {
     "end_time": "2024-04-23T11:46:50.054264Z",
     "start_time": "2024-04-23T11:46:50.051141Z"
    }
   },
   "outputs": [],
   "source": [
    "from tensorflow.keras.preprocessing.image import ImageDataGenerator"
   ]
  },
  {
   "cell_type": "code",
   "execution_count": 12,
   "id": "8dc927b3",
   "metadata": {
    "colab": {
     "base_uri": "https://localhost:8080/"
    },
    "id": "8dc927b3",
    "executionInfo": {
     "status": "ok",
     "timestamp": 1700042042021,
     "user_tz": -60,
     "elapsed": 32983,
     "user": {
      "displayName": "Bassem Ben Hamed",
      "userId": "05085141965811481856"
     }
    },
    "outputId": "e0b24428-e948-47bf-b4f3-dbe7461f4751",
    "ExecuteTime": {
     "end_time": "2024-04-23T05:47:10.142101Z",
     "start_time": "2024-04-23T05:47:10.052144Z"
    }
   },
   "outputs": [
    {
     "name": "stdout",
     "output_type": "stream",
     "text": [
      "Found 8030 images belonging to 2 classes.\n",
      "Found 2000 images belonging to 2 classes.\n"
     ]
    }
   ],
   "source": [
    "train_datagen = ImageDataGenerator(\n",
    "        rescale=1./255,\n",
    "        shear_range=0.2,\n",
    "        zoom_range=0.2,\n",
    "        horizontal_flip=True)\n",
    "test_datagen = ImageDataGenerator(rescale=1./255)\n",
    "train_set = train_datagen.flow_from_directory(\n",
    "        '/Users/MacBook/Documents/ISI/DL ISI/2_CNN_ImageClassification/dataset/training_set',\n",
    "        target_size=(64, 64),\n",
    "        batch_size=32,\n",
    "        class_mode='binary')\n",
    "test_set = test_datagen.flow_from_directory(\n",
    "        '/Users/MacBook/Documents/ISI/DL ISI/2_CNN_ImageClassification/dataset/test_set',\n",
    "        target_size=(64, 64),\n",
    "        batch_size=32,\n",
    "        class_mode='binary')"
   ]
  },
  {
   "cell_type": "code",
   "execution_count": 13,
   "id": "3329d0f7",
   "metadata": {
    "colab": {
     "base_uri": "https://localhost:8080/"
    },
    "id": "3329d0f7",
    "executionInfo": {
     "status": "ok",
     "timestamp": 1700045098691,
     "user_tz": -60,
     "elapsed": 3053266,
     "user": {
      "displayName": "Bassem Ben Hamed",
      "userId": "05085141965811481856"
     }
    },
    "outputId": "544acbbc-b1c6-431e-b001-ddb2338a0a41",
    "ExecuteTime": {
     "end_time": "2024-04-23T05:52:58.841833Z",
     "start_time": "2024-04-23T05:47:10.143380Z"
    }
   },
   "outputs": [
    {
     "name": "stdout",
     "output_type": "stream",
     "text": [
      "Epoch 1/25\n"
     ]
    },
    {
     "name": "stderr",
     "output_type": "stream",
     "text": [
      "2024-04-23 06:47:10.240823: W tensorflow/core/platform/profile_utils/cpu_utils.cc:128] Failed to get CPU frequency: 0 Hz\n",
      "2024-04-23 06:47:10.407571: I tensorflow/core/grappler/optimizers/custom_graph_optimizer_registry.cc:113] Plugin optimizer for device_type GPU is enabled.\n",
      "loc(\"mps_select\"(\"(mpsFileLoc): /AppleInternal/Library/BuildRoots/495c257e-668e-11ee-93ce-926038f30c31/Library/Caches/com.apple.xbs/Sources/MetalPerformanceShadersGraph/mpsgraph/MetalPerformanceShadersGraph/Core/Files/MPSGraphUtilities.mm\":294:0)): error: 'anec.gain_offset_control' op result #0 must be 4D/5D memref of 16-bit float or 8-bit signed integer or 8-bit unsigned integer values, but got 'memref<1x32x1x1xi1>'\n",
      "loc(\"mps_select\"(\"(mpsFileLoc): /AppleInternal/Library/BuildRoots/495c257e-668e-11ee-93ce-926038f30c31/Library/Caches/com.apple.xbs/Sources/MetalPerformanceShadersGraph/mpsgraph/MetalPerformanceShadersGraph/Core/Files/MPSGraphUtilities.mm\":294:0)): error: 'anec.gain_offset_control' op result #0 must be 4D/5D memref of 16-bit float or 8-bit signed integer or 8-bit unsigned integer values, but got 'memref<1x32x1x1xi1>'\n",
      "loc(\"mps_select\"(\"(mpsFileLoc): /AppleInternal/Library/BuildRoots/495c257e-668e-11ee-93ce-926038f30c31/Library/Caches/com.apple.xbs/Sources/MetalPerformanceShadersGraph/mpsgraph/MetalPerformanceShadersGraph/Core/Files/MPSGraphUtilities.mm\":294:0)): error: 'anec.gain_offset_control' op result #0 must be 4D/5D memref of 16-bit float or 8-bit signed integer or 8-bit unsigned integer values, but got 'memref<1x32x1x1xi1>'\n",
      "loc(\"mps_select\"(\"(mpsFileLoc): /AppleInternal/Library/BuildRoots/495c257e-668e-11ee-93ce-926038f30c31/Library/Caches/com.apple.xbs/Sources/MetalPerformanceShadersGraph/mpsgraph/MetalPerformanceShadersGraph/Core/Files/MPSGraphUtilities.mm\":294:0)): error: 'anec.gain_offset_control' op result #0 must be 4D/5D memref of 16-bit float or 8-bit signed integer or 8-bit unsigned integer values, but got 'memref<1x32x1x1xi1>'\n",
      "loc(\"mps_select\"(\"(mpsFileLoc): /AppleInternal/Library/BuildRoots/495c257e-668e-11ee-93ce-926038f30c31/Library/Caches/com.apple.xbs/Sources/MetalPerformanceShadersGraph/mpsgraph/MetalPerformanceShadersGraph/Core/Files/MPSGraphUtilities.mm\":294:0)): error: 'anec.gain_offset_control' op result #0 must be 4D/5D memref of 16-bit float or 8-bit signed integer or 8-bit unsigned integer values, but got 'memref<1x32x1x1xi1>'\n"
     ]
    },
    {
     "name": "stdout",
     "output_type": "stream",
     "text": [
      " 42/250 [====>.........................] - ETA: 10s - loss: 0.7197 - accuracy: 0.5223"
     ]
    },
    {
     "name": "stderr",
     "output_type": "stream",
     "text": [
      "loc(\"mps_select\"(\"(mpsFileLoc): /AppleInternal/Library/BuildRoots/495c257e-668e-11ee-93ce-926038f30c31/Library/Caches/com.apple.xbs/Sources/MetalPerformanceShadersGraph/mpsgraph/MetalPerformanceShadersGraph/Core/Files/MPSGraphUtilities.mm\":294:0)): error: 'anec.gain_offset_control' op result #0 must be 4D/5D memref of 16-bit float or 8-bit signed integer or 8-bit unsigned integer values, but got 'memref<1x30x1x1xi1>'\n",
      "loc(\"mps_select\"(\"(mpsFileLoc): /AppleInternal/Library/BuildRoots/495c257e-668e-11ee-93ce-926038f30c31/Library/Caches/com.apple.xbs/Sources/MetalPerformanceShadersGraph/mpsgraph/MetalPerformanceShadersGraph/Core/Files/MPSGraphUtilities.mm\":294:0)): error: 'anec.gain_offset_control' op result #0 must be 4D/5D memref of 16-bit float or 8-bit signed integer or 8-bit unsigned integer values, but got 'memref<1x30x1x1xi1>'\n",
      "loc(\"mps_select\"(\"(mpsFileLoc): /AppleInternal/Library/BuildRoots/495c257e-668e-11ee-93ce-926038f30c31/Library/Caches/com.apple.xbs/Sources/MetalPerformanceShadersGraph/mpsgraph/MetalPerformanceShadersGraph/Core/Files/MPSGraphUtilities.mm\":294:0)): error: 'anec.gain_offset_control' op result #0 must be 4D/5D memref of 16-bit float or 8-bit signed integer or 8-bit unsigned integer values, but got 'memref<1x30x1x1xi1>'\n",
      "loc(\"mps_select\"(\"(mpsFileLoc): /AppleInternal/Library/BuildRoots/495c257e-668e-11ee-93ce-926038f30c31/Library/Caches/com.apple.xbs/Sources/MetalPerformanceShadersGraph/mpsgraph/MetalPerformanceShadersGraph/Core/Files/MPSGraphUtilities.mm\":294:0)): error: 'anec.gain_offset_control' op result #0 must be 4D/5D memref of 16-bit float or 8-bit signed integer or 8-bit unsigned integer values, but got 'memref<1x30x1x1xi1>'\n",
      "loc(\"mps_select\"(\"(mpsFileLoc): /AppleInternal/Library/BuildRoots/495c257e-668e-11ee-93ce-926038f30c31/Library/Caches/com.apple.xbs/Sources/MetalPerformanceShadersGraph/mpsgraph/MetalPerformanceShadersGraph/Core/Files/MPSGraphUtilities.mm\":294:0)): error: 'anec.gain_offset_control' op result #0 must be 4D/5D memref of 16-bit float or 8-bit signed integer or 8-bit unsigned integer values, but got 'memref<1x30x1x1xi1>'\n"
     ]
    },
    {
     "name": "stdout",
     "output_type": "stream",
     "text": [
      "250/250 [==============================] - ETA: 0s - loss: 0.6841 - accuracy: 0.5700"
     ]
    },
    {
     "name": "stderr",
     "output_type": "stream",
     "text": [
      "2024-04-23 06:47:25.746664: I tensorflow/core/grappler/optimizers/custom_graph_optimizer_registry.cc:113] Plugin optimizer for device_type GPU is enabled.\n",
      "loc(\"mps_select\"(\"(mpsFileLoc): /AppleInternal/Library/BuildRoots/495c257e-668e-11ee-93ce-926038f30c31/Library/Caches/com.apple.xbs/Sources/MetalPerformanceShadersGraph/mpsgraph/MetalPerformanceShadersGraph/Core/Files/MPSGraphUtilities.mm\":294:0)): error: 'anec.gain_offset_control' op result #0 must be 4D/5D memref of 16-bit float or 8-bit signed integer or 8-bit unsigned integer values, but got 'memref<1x32x1x1xi1>'\n",
      "loc(\"mps_select\"(\"(mpsFileLoc): /AppleInternal/Library/BuildRoots/495c257e-668e-11ee-93ce-926038f30c31/Library/Caches/com.apple.xbs/Sources/MetalPerformanceShadersGraph/mpsgraph/MetalPerformanceShadersGraph/Core/Files/MPSGraphUtilities.mm\":294:0)): error: 'anec.gain_offset_control' op result #0 must be 4D/5D memref of 16-bit float or 8-bit signed integer or 8-bit unsigned integer values, but got 'memref<1x32x1x1xi1>'\n"
     ]
    },
    {
     "name": "stdout",
     "output_type": "stream",
     "text": [
      "250/250 [==============================] - 18s 64ms/step - loss: 0.6841 - accuracy: 0.5700 - val_loss: 0.6494 - val_accuracy: 0.6600\n",
      "Epoch 2/25\n",
      "  2/250 [..............................] - ETA: 12s - loss: 0.6688 - accuracy: 0.5625"
     ]
    },
    {
     "name": "stderr",
     "output_type": "stream",
     "text": [
      "loc(\"mps_select\"(\"(mpsFileLoc): /AppleInternal/Library/BuildRoots/495c257e-668e-11ee-93ce-926038f30c31/Library/Caches/com.apple.xbs/Sources/MetalPerformanceShadersGraph/mpsgraph/MetalPerformanceShadersGraph/Core/Files/MPSGraphUtilities.mm\":294:0)): error: 'anec.gain_offset_control' op result #0 must be 4D/5D memref of 16-bit float or 8-bit signed integer or 8-bit unsigned integer values, but got 'memref<1x16x1x1xi1>'\n",
      "loc(\"mps_select\"(\"(mpsFileLoc): /AppleInternal/Library/BuildRoots/495c257e-668e-11ee-93ce-926038f30c31/Library/Caches/com.apple.xbs/Sources/MetalPerformanceShadersGraph/mpsgraph/MetalPerformanceShadersGraph/Core/Files/MPSGraphUtilities.mm\":294:0)): error: 'anec.gain_offset_control' op result #0 must be 4D/5D memref of 16-bit float or 8-bit signed integer or 8-bit unsigned integer values, but got 'memref<1x16x1x1xi1>'\n"
     ]
    },
    {
     "name": "stdout",
     "output_type": "stream",
     "text": [
      "250/250 [==============================] - 13s 54ms/step - loss: 0.6157 - accuracy: 0.6609 - val_loss: 0.5695 - val_accuracy: 0.7190\n",
      "Epoch 3/25\n",
      "250/250 [==============================] - 13s 54ms/step - loss: 0.5660 - accuracy: 0.7046 - val_loss: 0.5436 - val_accuracy: 0.7365\n",
      "Epoch 4/25\n",
      "250/250 [==============================] - 13s 54ms/step - loss: 0.5382 - accuracy: 0.7293 - val_loss: 0.5706 - val_accuracy: 0.7095\n",
      "Epoch 5/25\n",
      "250/250 [==============================] - 13s 54ms/step - loss: 0.5103 - accuracy: 0.7492 - val_loss: 0.5345 - val_accuracy: 0.7375\n",
      "Epoch 6/25\n",
      "250/250 [==============================] - 14s 54ms/step - loss: 0.4940 - accuracy: 0.7557 - val_loss: 0.4862 - val_accuracy: 0.7755\n",
      "Epoch 7/25\n",
      "250/250 [==============================] - 14s 54ms/step - loss: 0.4684 - accuracy: 0.7793 - val_loss: 0.5966 - val_accuracy: 0.7320\n",
      "Epoch 8/25\n",
      "250/250 [==============================] - 14s 54ms/step - loss: 0.4550 - accuracy: 0.7863 - val_loss: 0.5050 - val_accuracy: 0.7630\n",
      "Epoch 9/25\n",
      "250/250 [==============================] - 14s 54ms/step - loss: 0.4349 - accuracy: 0.7986 - val_loss: 0.4553 - val_accuracy: 0.7940\n",
      "Epoch 10/25\n",
      "250/250 [==============================] - 14s 55ms/step - loss: 0.4290 - accuracy: 0.8010 - val_loss: 0.4502 - val_accuracy: 0.7975\n",
      "Epoch 11/25\n",
      "250/250 [==============================] - 14s 57ms/step - loss: 0.4090 - accuracy: 0.8098 - val_loss: 0.4958 - val_accuracy: 0.7720\n",
      "Epoch 12/25\n",
      "250/250 [==============================] - 14s 54ms/step - loss: 0.4015 - accuracy: 0.8203 - val_loss: 0.4433 - val_accuracy: 0.7975\n",
      "Epoch 13/25\n",
      "250/250 [==============================] - 14s 55ms/step - loss: 0.3909 - accuracy: 0.8213 - val_loss: 0.4450 - val_accuracy: 0.8030\n",
      "Epoch 14/25\n",
      "250/250 [==============================] - 14s 55ms/step - loss: 0.3785 - accuracy: 0.8241 - val_loss: 0.4808 - val_accuracy: 0.7820\n",
      "Epoch 15/25\n",
      "250/250 [==============================] - 14s 56ms/step - loss: 0.3648 - accuracy: 0.8355 - val_loss: 0.4332 - val_accuracy: 0.8205\n",
      "Epoch 16/25\n",
      "250/250 [==============================] - 14s 56ms/step - loss: 0.3495 - accuracy: 0.8460 - val_loss: 0.4321 - val_accuracy: 0.8205\n",
      "Epoch 17/25\n",
      "250/250 [==============================] - 14s 56ms/step - loss: 0.3507 - accuracy: 0.8432 - val_loss: 0.4404 - val_accuracy: 0.8000\n",
      "Epoch 18/25\n",
      "250/250 [==============================] - 14s 56ms/step - loss: 0.3376 - accuracy: 0.8521 - val_loss: 0.4643 - val_accuracy: 0.7985\n",
      "Epoch 19/25\n",
      "250/250 [==============================] - 14s 56ms/step - loss: 0.3278 - accuracy: 0.8557 - val_loss: 0.4434 - val_accuracy: 0.8155\n",
      "Epoch 20/25\n",
      "250/250 [==============================] - 14s 57ms/step - loss: 0.3105 - accuracy: 0.8640 - val_loss: 0.4324 - val_accuracy: 0.8165\n",
      "Epoch 21/25\n",
      "250/250 [==============================] - 14s 56ms/step - loss: 0.3118 - accuracy: 0.8597 - val_loss: 0.4528 - val_accuracy: 0.8225\n",
      "Epoch 22/25\n",
      "250/250 [==============================] - 14s 55ms/step - loss: 0.2922 - accuracy: 0.8750 - val_loss: 0.4437 - val_accuracy: 0.8150\n",
      "Epoch 23/25\n",
      "250/250 [==============================] - 14s 55ms/step - loss: 0.2999 - accuracy: 0.8688 - val_loss: 0.4431 - val_accuracy: 0.8165\n",
      "Epoch 24/25\n",
      "250/250 [==============================] - 14s 55ms/step - loss: 0.2831 - accuracy: 0.8812 - val_loss: 0.4848 - val_accuracy: 0.8120\n",
      "Epoch 25/25\n",
      "250/250 [==============================] - 14s 55ms/step - loss: 0.2778 - accuracy: 0.8810 - val_loss: 0.5077 - val_accuracy: 0.8020\n"
     ]
    }
   ],
   "source": [
    "history = classifier.fit(train_set,steps_per_epoch=250,epochs=25,validation_data=test_set,validation_steps=63)"
   ]
  },
  {
   "cell_type": "markdown",
   "id": "b89c64f0",
   "metadata": {
    "id": "b89c64f0"
   },
   "source": [
    "**Metrics visualization**"
   ]
  },
  {
   "cell_type": "code",
   "execution_count": 14,
   "id": "683c560d",
   "metadata": {
    "id": "683c560d",
    "ExecuteTime": {
     "end_time": "2024-04-23T05:52:59.071611Z",
     "start_time": "2024-04-23T05:52:58.842723Z"
    }
   },
   "outputs": [],
   "source": [
    "import matplotlib.pyplot as plt"
   ]
  },
  {
   "cell_type": "code",
   "execution_count": 15,
   "id": "3c535b9c",
   "metadata": {
    "id": "3c535b9c",
    "ExecuteTime": {
     "end_time": "2024-04-23T05:52:59.075156Z",
     "start_time": "2024-04-23T05:52:59.071829Z"
    }
   },
   "outputs": [],
   "source": [
    "training_loss = history.history['loss']\n",
    "test_loss = history.history['val_loss']"
   ]
  },
  {
   "cell_type": "code",
   "execution_count": 16,
   "id": "a225eb63",
   "metadata": {
    "id": "a225eb63",
    "ExecuteTime": {
     "end_time": "2024-04-23T05:52:59.086523Z",
     "start_time": "2024-04-23T05:52:59.074278Z"
    }
   },
   "outputs": [],
   "source": [
    "epoch_count = range(1, len(training_loss)+1)"
   ]
  },
  {
   "cell_type": "code",
   "execution_count": 17,
   "id": "571c770f",
   "metadata": {
    "id": "571c770f",
    "outputId": "0c8eac9a-9912-49e9-bcd1-ca34f709e11a",
    "colab": {
     "base_uri": "https://localhost:8080/",
     "height": 489
    },
    "executionInfo": {
     "status": "ok",
     "timestamp": 1699807379491,
     "user_tz": -60,
     "elapsed": 602,
     "user": {
      "displayName": "Bassem Ben Hamed",
      "userId": "05085141965811481856"
     }
    },
    "ExecuteTime": {
     "end_time": "2024-04-23T05:52:59.238344Z",
     "start_time": "2024-04-23T05:52:59.076759Z"
    }
   },
   "outputs": [
    {
     "data": {
      "text/plain": "<matplotlib.legend.Legend at 0x2d5987430>"
     },
     "execution_count": 17,
     "metadata": {},
     "output_type": "execute_result"
    },
    {
     "data": {
      "text/plain": "<Figure size 640x480 with 1 Axes>",
      "image/png": "[encoded data removed]"
     },
     "metadata": {},
     "output_type": "display_data"
    }
   ],
   "source": [
    "plt.plot(epoch_count, training_loss)\n",
    "plt.plot(epoch_count, test_loss)\n",
    "plt.title('Loss history')\n",
    "plt.xlabel('Epoch')\n",
    "plt.ylabel('Loss')\n",
    "plt.legend(['Train', 'Test'])"
   ]
  },
  {
   "cell_type": "code",
   "execution_count": 18,
   "id": "0f621465",
   "metadata": {
    "id": "0f621465",
    "ExecuteTime": {
     "end_time": "2024-04-23T05:52:59.238930Z",
     "start_time": "2024-04-23T05:52:59.230767Z"
    }
   },
   "outputs": [],
   "source": [
    "training_acc = history.history['accuracy']\n",
    "test_acc = history.history['val_accuracy']"
   ]
  },
  {
   "cell_type": "code",
   "execution_count": 19,
   "id": "8c3a34b1",
   "metadata": {
    "id": "8c3a34b1",
    "outputId": "75c4ac7c-f387-4610-ce72-2ff7918293a5",
    "colab": {
     "base_uri": "https://localhost:8080/",
     "height": 489
    },
    "executionInfo": {
     "status": "ok",
     "timestamp": 1699807387859,
     "user_tz": -60,
     "elapsed": 452,
     "user": {
      "displayName": "Bassem Ben Hamed",
      "userId": "05085141965811481856"
     }
    },
    "ExecuteTime": {
     "end_time": "2024-04-23T05:52:59.367636Z",
     "start_time": "2024-04-23T05:52:59.245403Z"
    }
   },
   "outputs": [
    {
     "data": {
      "text/plain": "<matplotlib.legend.Legend at 0x2d5903e20>"
     },
     "execution_count": 19,
     "metadata": {},
     "output_type": "execute_result"
    },
    {
     "data": {
      "text/plain": "<Figure size 640x480 with 1 Axes>",
      "image/png": "[encoded data removed]"
     },
     "metadata": {},
     "output_type": "display_data"
    }
   ],
   "source": [
    "plt.plot(epoch_count, training_acc)\n",
    "plt.plot(epoch_count, test_acc)\n",
    "plt.title('Accuracy history')\n",
    "plt.xlabel('Epoch')\n",
    "plt.ylabel('Accuracy')\n",
    "plt.legend(['Train', 'Test'])"
   ]
  },
  {
   "cell_type": "markdown",
   "id": "492bd2a4",
   "metadata": {
    "id": "492bd2a4"
   },
   "source": [
    "## Part 3: Making new predictions"
   ]
  },
  {
   "cell_type": "code",
   "execution_count": 12,
   "id": "4184d0fb",
   "metadata": {
    "id": "4184d0fb",
    "ExecuteTime": {
     "end_time": "2024-04-27T14:36:58.166087Z",
     "start_time": "2024-04-27T14:36:58.143576Z"
    }
   },
   "outputs": [],
   "source": [
    "import numpy as np\n",
    "#from keras.preprocessing import image\n",
    "from keras.utils import load_img, img_to_array\n",
    "test_image = load_img('/Users/MacBook/Documents/ISI/DL ISI/2_CNN_ImageClassification/dataset/single_prediction/cat_or_dog_1.jpg', target_size=(64,64))"
   ]
  },
  {
   "cell_type": "code",
   "execution_count": 13,
   "id": "f8ecf554",
   "metadata": {
    "id": "f8ecf554",
    "outputId": "03b3e189-42ad-4217-dd6d-994ed0fe6d9b",
    "colab": {
     "base_uri": "https://localhost:8080/",
     "height": 81
    },
    "executionInfo": {
     "status": "ok",
     "timestamp": 1699807397371,
     "user_tz": -60,
     "elapsed": 374,
     "user": {
      "displayName": "Bassem Ben Hamed",
      "userId": "05085141965811481856"
     }
    },
    "ExecuteTime": {
     "end_time": "2024-04-27T14:36:58.519530Z",
     "start_time": "2024-04-27T14:36:58.512658Z"
    }
   },
   "outputs": [
    {
     "data": {
      "text/plain": "<PIL.Image.Image image mode=RGB size=64x64>",
      "image/png": "[encoded data removed]",
      "image/jpeg": "[encoded data removed]"
     },
     "execution_count": 13,
     "metadata": {},
     "output_type": "execute_result"
    }
   ],
   "source": [
    "test_image"
   ]
  },
  {
   "cell_type": "code",
   "execution_count": 14,
   "id": "cb8a56d2",
   "metadata": {
    "id": "cb8a56d2",
    "ExecuteTime": {
     "end_time": "2024-04-27T14:36:58.905054Z",
     "start_time": "2024-04-27T14:36:58.873987Z"
    }
   },
   "outputs": [],
   "source": [
    "test_image = img_to_array(test_image)\n",
    "test_image /= 255"
   ]
  },
  {
   "cell_type": "code",
   "execution_count": 15,
   "id": "851248d1",
   "metadata": {
    "id": "851248d1",
    "outputId": "2269059a-f2bc-4752-936c-0df634981aae",
    "colab": {
     "base_uri": "https://localhost:8080/"
    },
    "executionInfo": {
     "status": "ok",
     "timestamp": 1699807402795,
     "user_tz": -60,
     "elapsed": 720,
     "user": {
      "displayName": "Bassem Ben Hamed",
      "userId": "05085141965811481856"
     }
    },
    "ExecuteTime": {
     "end_time": "2024-04-27T14:36:59.336031Z",
     "start_time": "2024-04-27T14:36:59.332801Z"
    }
   },
   "outputs": [
    {
     "data": {
      "text/plain": "(64, 64, 3)"
     },
     "execution_count": 15,
     "metadata": {},
     "output_type": "execute_result"
    }
   ],
   "source": [
    "test_image.shape"
   ]
  },
  {
   "cell_type": "code",
   "execution_count": 16,
   "id": "d240ac88",
   "metadata": {
    "id": "d240ac88",
    "outputId": "1441e3f5-38fe-4c4a-8870-2ada9420560f",
    "colab": {
     "base_uri": "https://localhost:8080/"
    },
    "executionInfo": {
     "status": "ok",
     "timestamp": 1699807404307,
     "user_tz": -60,
     "elapsed": 4,
     "user": {
      "displayName": "Bassem Ben Hamed",
      "userId": "05085141965811481856"
     }
    },
    "ExecuteTime": {
     "end_time": "2024-04-27T14:37:00.616864Z",
     "start_time": "2024-04-27T14:37:00.611915Z"
    }
   },
   "outputs": [
    {
     "data": {
      "text/plain": "array([[[0.21176471, 0.22745098, 0.02745098],\n        [0.22745098, 0.24705882, 0.03529412],\n        [0.2509804 , 0.2627451 , 0.03921569],\n        ...,\n        [0.53333336, 0.5647059 , 0.2784314 ],\n        [0.54901963, 0.5882353 , 0.3019608 ],\n        [0.54509807, 0.58431375, 0.30588236]],\n\n       [[0.1882353 , 0.21176471, 0.02352941],\n        [0.2       , 0.22745098, 0.02745098],\n        [0.22745098, 0.24705882, 0.03529412],\n        ...,\n        [0.5058824 , 0.5372549 , 0.2509804 ],\n        [0.54509807, 0.58431375, 0.30588236],\n        [0.5529412 , 0.5921569 , 0.3137255 ]],\n\n       [[0.1882353 , 0.21960784, 0.02745098],\n        [0.1882353 , 0.21960784, 0.02745098],\n        [0.21176471, 0.23921569, 0.03921569],\n        ...,\n        [0.48235294, 0.50980395, 0.24705882],\n        [0.53333336, 0.5686275 , 0.3137255 ],\n        [0.54901963, 0.58431375, 0.32156864]],\n\n       ...,\n\n       [[0.18039216, 0.21568628, 0.04705882],\n        [0.16470589, 0.19607843, 0.03529412],\n        [0.14901961, 0.19215687, 0.03529412],\n        ...,\n        [0.9372549 , 0.8039216 , 0.6666667 ],\n        [0.92156863, 0.81960785, 0.7294118 ],\n        [0.8980392 , 0.7921569 , 0.6784314 ]],\n\n       [[0.19607843, 0.22352941, 0.05882353],\n        [0.16470589, 0.19607843, 0.03529412],\n        [0.17254902, 0.20392157, 0.04313726],\n        ...,\n        [0.91764706, 0.78431374, 0.63529414],\n        [0.9254902 , 0.80784315, 0.69803923],\n        [0.91764706, 0.79607844, 0.68235296]],\n\n       [[0.20784314, 0.23137255, 0.05098039],\n        [0.16862746, 0.2       , 0.03921569],\n        [0.19215687, 0.21960784, 0.04705882],\n        ...,\n        [0.90588236, 0.7647059 , 0.62352943],\n        [0.92156863, 0.8352941 , 0.74509805],\n        [0.9137255 , 0.80784315, 0.7019608 ]]], dtype=float32)"
     },
     "execution_count": 16,
     "metadata": {},
     "output_type": "execute_result"
    }
   ],
   "source": [
    "test_image"
   ]
  },
  {
   "cell_type": "code",
   "outputs": [
    {
     "data": {
      "text/plain": "(1, 64, 64, 3)"
     },
     "execution_count": 17,
     "metadata": {},
     "output_type": "execute_result"
    }
   ],
   "source": [
    "test_image = np.expand_dims(test_image,axis=0)\n",
    "test_image.shape"
   ],
   "metadata": {
    "collapsed": false,
    "ExecuteTime": {
     "end_time": "2024-04-27T14:37:37.051238Z",
     "start_time": "2024-04-27T14:37:37.038942Z"
    }
   },
   "id": "9271ec3b8eb131e9",
   "execution_count": 17
  },
  {
   "cell_type": "code",
   "execution_count": 29,
   "id": "165116e2",
   "metadata": {
    "id": "165116e2",
    "colab": {
     "base_uri": "https://localhost:8080/"
    },
    "executionInfo": {
     "status": "ok",
     "timestamp": 1699807409392,
     "user_tz": -60,
     "elapsed": 537,
     "user": {
      "displayName": "Bassem Ben Hamed",
      "userId": "05085141965811481856"
     }
    },
    "outputId": "595ea67f-5982-4d96-ced7-0ae3c1a0ec5c",
    "ExecuteTime": {
     "end_time": "2024-04-23T05:56:42.686970Z",
     "start_time": "2024-04-23T05:56:42.164971Z"
    }
   },
   "outputs": [
    {
     "name": "stderr",
     "output_type": "stream",
     "text": [
      "2024-04-23 06:56:42.211895: I tensorflow/core/grappler/optimizers/custom_graph_optimizer_registry.cc:113] Plugin optimizer for device_type GPU is enabled.\n"
     ]
    },
    {
     "name": "stdout",
     "output_type": "stream",
     "text": [
      "1/1 [==============================] - 1s 503ms/step\n"
     ]
    }
   ],
   "source": [
    "result = classifier.predict(test_image)"
   ]
  },
  {
   "cell_type": "code",
   "execution_count": 30,
   "id": "fec6cfe5",
   "metadata": {
    "id": "fec6cfe5",
    "ExecuteTime": {
     "end_time": "2024-04-23T05:56:44.145359Z",
     "start_time": "2024-04-23T05:56:44.140080Z"
    }
   },
   "outputs": [],
   "source": [
    "result = result[0][0]>0.5"
   ]
  },
  {
   "cell_type": "code",
   "execution_count": 31,
   "id": "c740d50d",
   "metadata": {
    "id": "c740d50d",
    "outputId": "c9257fff-2ebe-476a-b46f-cf980f696229",
    "colab": {
     "base_uri": "https://localhost:8080/"
    },
    "executionInfo": {
     "status": "ok",
     "timestamp": 1699807415037,
     "user_tz": -60,
     "elapsed": 387,
     "user": {
      "displayName": "Bassem Ben Hamed",
      "userId": "05085141965811481856"
     }
    },
    "ExecuteTime": {
     "end_time": "2024-04-23T05:56:45.581671Z",
     "start_time": "2024-04-23T05:56:45.578006Z"
    }
   },
   "outputs": [
    {
     "name": "stdout",
     "output_type": "stream",
     "text": [
      "dog\n"
     ]
    }
   ],
   "source": [
    "if result == True:\n",
    "    prediction = 'dog'\n",
    "else:\n",
    "    prediction = 'cat'\n",
    "\n",
    "print(prediction)"
   ]
  },
  {
   "cell_type": "code",
   "execution_count": null,
   "id": "fac71785",
   "metadata": {
    "id": "fac71785",
    "ExecuteTime": {
     "start_time": "2024-04-23T05:52:59.793551Z"
    }
   },
   "outputs": [],
   "source": []
  }
 ],
 "metadata": {
  "kernelspec": {
   "name": "python3",
   "language": "python",
   "display_name": "Python 3 (ipykernel)"
  },
  "language_info": {
   "codemirror_mode": {
    "name": "ipython",
    "version": 3
   },
   "file_extension": ".py",
   "mimetype": "text/x-python",
   "name": "python",
   "nbconvert_exporter": "python",
   "pygments_lexer": "ipython3",
   "version": "3.11.4"
  },
  "colab": {
   "provenance": [],
   "gpuType": "T4"
  },
  "accelerator": "GPU"
 },
 "nbformat": 4,
 "nbformat_minor": 5
}
